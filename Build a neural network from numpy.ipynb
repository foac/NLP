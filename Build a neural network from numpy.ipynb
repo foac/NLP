{
 "cells": [
  {
   "cell_type": "markdown",
   "metadata": {},
   "source": [
    "# Traget: using pyton and mumpy implement a neural network framework\n",
    "Node:\n",
    "+ forwrd: *function*, how to calculate the inputs\n",
    "+ backwards: *function*, how to get the gradients when backpropogation\n",
    "+ gradients: *Mapper*, the gradient map this node of its inputs node\n",
    "+ inputs: *List*\n",
    "+ outputs: *list*\n"
   ]
  },
  {
   "cell_type": "markdown",
   "metadata": {},
   "source": [
    "## 面向对象的方式来组织\n",
    "\n",
    "## 构建基类"
   ]
  },
  {
   "cell_type": "code",
   "execution_count": null,
   "metadata": {},
   "outputs": [],
   "source": []
  },
  {
   "cell_type": "code",
   "execution_count": 465,
   "metadata": {},
   "outputs": [],
   "source": [
    "class Node:\n",
    "    \"\"\"\n",
    "    each node in neural network will have these arrtributes and methods\n",
    "    \"\"\"\n",
    "    def __init__(self,inputs=[]):\n",
    "        \"\"\"\n",
    "        if the node is the operator of 'ax+b', the inputs will be x node, and the outputs of this is its successors.\n",
    "        and the value is 'ax + b'\n",
    "        \"\"\"\n",
    "        self.inputs = inputs # input list <- C, Java <- 匈牙利命名法 -> Python 特别不建议 ， python定义时无类型\n",
    "        #self.outputs = outputs # output list \n",
    "        self.value = None\n",
    "        self.outputs = []\n",
    "        self.gradients = {}\n",
    "        \n",
    "        for node in self.inputs: # variable without type , plural \n",
    "            node.outputs.append(self)\n",
    "    \n",
    "    def forward(self):\n",
    "        \"\"\"\n",
    "        forward propogation\n",
    "        compute the output value based on input nodes and store the value into \"self.value\"\n",
    "        \"\"\"\n",
    "        raise NotImplemented  # imaginary class\n",
    "    \n",
    "    def backward(self):\n",
    "        \n",
    "        \"\"\"\n",
    "        Back propogation\n",
    "        compute the gradient of each input node and store the value into \"self.gradients\"\n",
    "        \"\"\"\n",
    "        return NotImplemented  # imaginary class\n",
    "    "
   ]
  },
  {
   "cell_type": "markdown",
   "metadata": {},
   "source": [
    "## 构建子类\n",
    "+ Input node\n",
    "+ Linear Node\n",
    "+ Sigmoid Node\n"
   ]
  },
  {
   "cell_type": "code",
   "execution_count": 466,
   "metadata": {},
   "outputs": [],
   "source": [
    "class Input(Node):\n",
    "    def __init__(self, name=''):\n",
    "        Node.__init__(self, inputs=[])\n",
    "        self.name= name\n",
    "    \n",
    "    def forward(self, value=None):\n",
    "        if value is not None:\n",
    "            self.value = value\n",
    "        \n",
    "    def backward(self):\n",
    "        self.gradients = {}\n",
    "        \n",
    "        for n in self.outputs:\n",
    "            grad_cost = n.gradients[self]\n",
    "            self.gradients[self] = grad_cost\n",
    "    \n",
    "    def __repr__(self):\n",
    "        return 'Input Node: {}'.format(self.name)"
   ]
  },
  {
   "cell_type": "code",
   "execution_count": 467,
   "metadata": {},
   "outputs": [],
   "source": [
    "import numpy as np"
   ]
  },
  {
   "cell_type": "code",
   "execution_count": 468,
   "metadata": {},
   "outputs": [],
   "source": [
    "X = np.array([1,2,3])"
   ]
  },
  {
   "cell_type": "code",
   "execution_count": 469,
   "metadata": {},
   "outputs": [],
   "source": [
    "w = np.array([[1,2],[2,4],[3,5]])"
   ]
  },
  {
   "cell_type": "code",
   "execution_count": 470,
   "metadata": {},
   "outputs": [
    {
     "data": {
      "text/plain": [
       "array([14, 25])"
      ]
     },
     "execution_count": 470,
     "metadata": {},
     "output_type": "execute_result"
    }
   ],
   "source": [
    "np.dot(X,w)"
   ]
  },
  {
   "cell_type": "code",
   "execution_count": 519,
   "metadata": {},
   "outputs": [],
   "source": [
    "class Linear(Node):\n",
    "    def __init__(self, nodes, weights, bias):\n",
    "        self.w_node = weights\n",
    "        self.x_node = nodes\n",
    "        self.b_node = bias\n",
    "        Node.__init__(self,inputs = [nodes, weights, bias])\n",
    "        \n",
    "    def forward(self):\n",
    "        \"\"\"\n",
    "        compute the wx+b using numpy\n",
    "        \"\"\"\n",
    "        self.value = np.dot(self.x_node.value, self.w_node.value)+self.b_node.value\n",
    "        \n",
    "    def backward(self):\n",
    "        for node in self.outputs:\n",
    "            grad_cost = node.gradients[self]\n",
    "            \n",
    "            self.gradients[self.w_node]= np.dot(self.x_node.value.T,grad_cost) # partial(loss)/partial(w) = partial(loss)/partial(self)*x\n",
    "            self.gradients[self.b_node]= np.sum(grad_cost * 1, axis = 0, keepdims = False) # partial(loss)/partial(b) = partial(loss)/partial(self)*1\n",
    "            self.gradients[self.x_node]= np.dot(grad_cost, self.w_node.value.T)\n"
   ]
  },
  {
   "cell_type": "code",
   "execution_count": 520,
   "metadata": {},
   "outputs": [],
   "source": [
    "# class Linear(Node):\n",
    "#     def __init__(self, nodes, weights, bias):\n",
    "#         self.w_node = weights\n",
    "#         self.x_node = nodes\n",
    "#         self.b_node = bias\n",
    "#         Node.__init__(self, inputs=[nodes, weights, bias])\n",
    "    \n",
    "#     def forward(self): \n",
    "#         \"\"\"compute the wx + b using numpy\"\"\"\n",
    "#         self.value = np.dot(self.x_node.value, self.w_node.value) + self.b_node.value\n",
    "        \n",
    "    \n",
    "#     def backward(self):\n",
    "        \n",
    "#         for node in self.outputs:\n",
    "#             #gradient_of_loss_of_this_output_node = node.gradient[self]\n",
    "#             grad_cost = node.gradients[self]\n",
    "            \n",
    "#             self.gradients[self.w_node] = np.dot(self.x_node.value.T, grad_cost)\n",
    "#             self.gradients[self.b_node] = np.sum(grad_cost * 1, axis=0, keepdims=False)\n",
    "#             self.gradients[self.x_node] = np.dot(grad_cost, self.w_node.value.T)"
   ]
  },
  {
   "cell_type": "code",
   "execution_count": 521,
   "metadata": {},
   "outputs": [],
   "source": [
    "class Sigmoid(Node):\n",
    "    def __init__(self,node):\n",
    "        Node.__init__(self,[node])\n",
    "        self.x_node = node\n",
    "        \n",
    "    def _sigmoid(self,x):\n",
    "        return 1./(1+np.exp(-1 * x ))\n",
    "    \n",
    "    def forward(self):\n",
    "        self.value  = self._sigmoid(self.x_node.value) \n",
    "        \n",
    "    def backward(self):\n",
    "        y = self.value\n",
    "        \n",
    "        self.partial = y * (1-y)\n",
    "        \n",
    "        for n in self.outputs:\n",
    "            grad_cost = n.gradients[self]\n",
    "            \n",
    "            self.gradients[self.x_node] = grad_cost * self.partial"
   ]
  },
  {
   "cell_type": "code",
   "execution_count": 522,
   "metadata": {},
   "outputs": [],
   "source": [
    "W1 = np.array([[1,1],[1,2],[1,3]])\n",
    "W2 = np.array([[0,1],[3,2],[2,3]])\n"
   ]
  },
  {
   "cell_type": "code",
   "execution_count": 523,
   "metadata": {},
   "outputs": [
    {
     "data": {
      "text/plain": [
       "array([[1, 1],\n",
       "       [1, 2],\n",
       "       [1, 3]])"
      ]
     },
     "execution_count": 523,
     "metadata": {},
     "output_type": "execute_result"
    }
   ],
   "source": [
    "W1"
   ]
  },
  {
   "cell_type": "code",
   "execution_count": 524,
   "metadata": {},
   "outputs": [
    {
     "data": {
      "text/plain": [
       "array([[1],\n",
       "       [1],\n",
       "       [1],\n",
       "       [2],\n",
       "       [1],\n",
       "       [3]])"
      ]
     },
     "execution_count": 524,
     "metadata": {},
     "output_type": "execute_result"
    }
   ],
   "source": [
    "W1.reshape(-1,1)"
   ]
  },
  {
   "cell_type": "code",
   "execution_count": 525,
   "metadata": {},
   "outputs": [
    {
     "data": {
      "text/plain": [
       "array([1, 1, 1, 2, 1, 3])"
      ]
     },
     "execution_count": 525,
     "metadata": {},
     "output_type": "execute_result"
    }
   ],
   "source": [
    "W1.reshape(-1)"
   ]
  },
  {
   "cell_type": "code",
   "execution_count": 526,
   "metadata": {},
   "outputs": [
    {
     "data": {
      "text/plain": [
       "3"
      ]
     },
     "execution_count": 526,
     "metadata": {},
     "output_type": "execute_result"
    }
   ],
   "source": [
    "W1.shape[0]"
   ]
  },
  {
   "cell_type": "code",
   "execution_count": 527,
   "metadata": {},
   "outputs": [
    {
     "data": {
      "text/plain": [
       "6"
      ]
     },
     "execution_count": 527,
     "metadata": {},
     "output_type": "execute_result"
    }
   ],
   "source": [
    "W1.reshape(-1,1).shape[0]"
   ]
  },
  {
   "cell_type": "code",
   "execution_count": 528,
   "metadata": {},
   "outputs": [
    {
     "data": {
      "text/plain": [
       "array([[1],\n",
       "       [0],\n",
       "       [4],\n",
       "       [0],\n",
       "       [1],\n",
       "       [0]], dtype=int32)"
      ]
     },
     "execution_count": 528,
     "metadata": {},
     "output_type": "execute_result"
    }
   ],
   "source": [
    "(W1.reshape(-1,1)-W2.reshape(-1,1))**2"
   ]
  },
  {
   "cell_type": "code",
   "execution_count": 529,
   "metadata": {},
   "outputs": [],
   "source": [
    "class MSE(Node):\n",
    "    def __init__(self,y_true, y_hat):\n",
    "        self.y_true_node = y_true\n",
    "        self.y_hat_node = y_hat\n",
    "        Node.__init__(self, inputs = [y_true, y_hat])\n",
    "         \n",
    "    def forward(self):\n",
    "        y_true_flatten = self.y_true_node.value.reshape(-1,1)\n",
    "        y_hat_flatten = self.y_hat_node.value.reshape(-1,1)\n",
    "        self.diff = y_true_flatten-y_hat_flatten\n",
    "        self.value = np.mean(self.diff ** 2)\n",
    "        \n",
    "    def backward(self):\n",
    "        n = self.y_hat_node.value.shape[0] # shape [0] 第一个维度大小；        \n",
    "        self.gradients[self.y_true_node] =  (2 / n) * self.diff\n",
    "        self.gradients[self.y_hat_node] = (-2 / n) * self.diff\n",
    "        \n",
    "    def __str__(self):\n",
    "        print('MSE with ****')\n",
    "  "
   ]
  },
  {
   "cell_type": "code",
   "execution_count": 530,
   "metadata": {},
   "outputs": [],
   "source": [
    "def training_one_batch(topological_sorted_graph):\n",
    "    # graph 经过拓扑排序之后的一个list\n",
    "    for node in topological_sorted_graph:\n",
    "        node.forward()\n",
    "        \n",
    "    for node in topological_sorted_graph[::-1]:\n",
    "        node.backward()\n",
    "        "
   ]
  },
  {
   "cell_type": "code",
   "execution_count": 531,
   "metadata": {},
   "outputs": [],
   "source": [
    "def topological_sort(data_with_value):\n",
    "    feed_dict = data_with_value\n",
    "    input_nodes = [n for n in feed_dict.keys()]\n",
    "    \n",
    "    G = {}\n",
    "    nodes = [ n for n in input_nodes]\n",
    "    while len(nodes)>0:\n",
    "        n = nodes.pop(0)\n",
    "        if n not in G:\n",
    "            G[n] = {'in': set(), 'out' : set()}\n",
    "        for m in n.outputs:\n",
    "            if m not in G:\n",
    "                G[m] = { 'in': set(), 'out': set()}\n",
    "            G[n]['out'].add(m)\n",
    "            G[m]['in'].add(n)\n",
    "            nodes.append(m)\n",
    "    L = []\n",
    "    S  = set(input_nodes)\n",
    "    while len(S)>0:\n",
    "        n = S.pop()\n",
    "        \n",
    "        if isinstance(n,Input):\n",
    "            n.value = feed_dict[n]\n",
    "            ## if n is Input node, set a value as feed_dic[n]\n",
    "            ## else, n's value is calculated as its inbounds\n",
    "            \n",
    "        L.append(n)\n",
    "        for m in n.outputs:\n",
    "            G[n]['out'].remove(m)\n",
    "            G[m]['in'].remove(n)\n",
    "            # if no other incoming edge add to S\n",
    "            if len(G[m]['in'])== 0:\n",
    "                S.add(m)\n",
    "    return L\n",
    "        "
   ]
  },
  {
   "cell_type": "code",
   "execution_count": 532,
   "metadata": {},
   "outputs": [],
   "source": [
    "def sgd_update(trainable_nodes, learning_rate = 1e-2):\n",
    "    for t in trainable_nodes:\n",
    "        t.value += -1 * learning_rate * t.gradients[t]  # partial(loss)/partial(t)"
   ]
  },
  {
   "cell_type": "code",
   "execution_count": 533,
   "metadata": {},
   "outputs": [],
   "source": [
    "from sklearn.datasets import load_boston"
   ]
  },
  {
   "cell_type": "code",
   "execution_count": 534,
   "metadata": {},
   "outputs": [],
   "source": [
    "data  = load_boston()"
   ]
  },
  {
   "cell_type": "code",
   "execution_count": 535,
   "metadata": {},
   "outputs": [],
   "source": [
    "X_ = data['data']"
   ]
  },
  {
   "cell_type": "code",
   "execution_count": 536,
   "metadata": {},
   "outputs": [
    {
     "data": {
      "text/plain": [
       "array([[6.3200e-03, 1.8000e+01, 2.3100e+00, ..., 1.5300e+01, 3.9690e+02,\n",
       "        4.9800e+00],\n",
       "       [2.7310e-02, 0.0000e+00, 7.0700e+00, ..., 1.7800e+01, 3.9690e+02,\n",
       "        9.1400e+00],\n",
       "       [2.7290e-02, 0.0000e+00, 7.0700e+00, ..., 1.7800e+01, 3.9283e+02,\n",
       "        4.0300e+00],\n",
       "       ...,\n",
       "       [6.0760e-02, 0.0000e+00, 1.1930e+01, ..., 2.1000e+01, 3.9690e+02,\n",
       "        5.6400e+00],\n",
       "       [1.0959e-01, 0.0000e+00, 1.1930e+01, ..., 2.1000e+01, 3.9345e+02,\n",
       "        6.4800e+00],\n",
       "       [4.7410e-02, 0.0000e+00, 1.1930e+01, ..., 2.1000e+01, 3.9690e+02,\n",
       "        7.8800e+00]])"
      ]
     },
     "execution_count": 536,
     "metadata": {},
     "output_type": "execute_result"
    }
   ],
   "source": [
    "X_"
   ]
  },
  {
   "cell_type": "code",
   "execution_count": 537,
   "metadata": {},
   "outputs": [],
   "source": [
    "y_ = data['target']"
   ]
  },
  {
   "cell_type": "code",
   "execution_count": 538,
   "metadata": {},
   "outputs": [],
   "source": [
    "X_ = (X_-np.mean(X_, axis=0))/np.std(X_,axis=0)"
   ]
  },
  {
   "cell_type": "code",
   "execution_count": 539,
   "metadata": {},
   "outputs": [],
   "source": [
    "n_features = X_.shape[1]"
   ]
  },
  {
   "cell_type": "code",
   "execution_count": 540,
   "metadata": {},
   "outputs": [
    {
     "data": {
      "text/plain": [
       "13"
      ]
     },
     "execution_count": 540,
     "metadata": {},
     "output_type": "execute_result"
    }
   ],
   "source": [
    "n_features"
   ]
  },
  {
   "cell_type": "code",
   "execution_count": 541,
   "metadata": {},
   "outputs": [],
   "source": [
    "n_hidden = 10"
   ]
  },
  {
   "cell_type": "code",
   "execution_count": 542,
   "metadata": {},
   "outputs": [],
   "source": [
    "W1_, b1_= np.random.randn(n_features, n_hidden), np.zeros(n_hidden)"
   ]
  },
  {
   "cell_type": "code",
   "execution_count": 543,
   "metadata": {},
   "outputs": [],
   "source": [
    "W2_, b2_= np.random.randn(n_hidden, 1), np.zeros(1)"
   ]
  },
  {
   "cell_type": "code",
   "execution_count": 544,
   "metadata": {},
   "outputs": [],
   "source": [
    "#W3_,b3_ = np.random.randn(n_hidden2,1), np.zeros(1)"
   ]
  },
  {
   "cell_type": "code",
   "execution_count": null,
   "metadata": {},
   "outputs": [],
   "source": []
  },
  {
   "cell_type": "markdown",
   "metadata": {},
   "source": [
    "## Build a graph conneciton\n",
    "### Build nodes in this graph"
   ]
  },
  {
   "cell_type": "code",
   "execution_count": 545,
   "metadata": {},
   "outputs": [],
   "source": [
    "X, y = Input(name = 'X'), Input(name = 'y')  # Tensorflor -> placeholder\n",
    "W1, b1 = Input(name = 'W1'), Input(name = 'b1')\n",
    "W2, b2 = Input(name = 'W2'), Input(name = 'b2')\n",
    "#W3, b3 = Input(name = 'W3'), Input(name = 'b3')"
   ]
  },
  {
   "cell_type": "markdown",
   "metadata": {},
   "source": [
    "### 2nd build connection relationship"
   ]
  },
  {
   "cell_type": "code",
   "execution_count": 546,
   "metadata": {},
   "outputs": [],
   "source": [
    "linear_output = Linear(X, W1, b1)\n",
    "sigmoid_output = Sigmoid(linear_output)\n",
    "#linear_output_2 = Linear(sigmoid_output)\n",
    "yhat = Linear(sigmoid_output, W2, b2)\n",
    "loss = MSE(y, yhat)\n"
   ]
  },
  {
   "cell_type": "code",
   "execution_count": 547,
   "metadata": {},
   "outputs": [],
   "source": [
    "input_node_with_value = {  # feed_dict in Tensorflow\n",
    "    X: X_,\n",
    "    y: y_,\n",
    "    W1: W1_,\n",
    "    W2: W2_,\n",
    "    b1: b1_,\n",
    "    b2: b2_\n",
    "}"
   ]
  },
  {
   "cell_type": "code",
   "execution_count": 548,
   "metadata": {},
   "outputs": [],
   "source": [
    "graph = topological_sort(input_node_with_value)"
   ]
  },
  {
   "cell_type": "code",
   "execution_count": 549,
   "metadata": {},
   "outputs": [
    {
     "data": {
      "text/plain": [
       "[Input Node: b1,\n",
       " Input Node: b2,\n",
       " Input Node: W1,\n",
       " Input Node: X,\n",
       " Input Node: W2,\n",
       " Input Node: y,\n",
       " <__main__.Linear at 0x178653404e0>,\n",
       " <__main__.Sigmoid at 0x17865340518>,\n",
       " <__main__.Linear at 0x178653406a0>,\n",
       " <__main__.MSE at 0x178653406d8>]"
      ]
     },
     "execution_count": 549,
     "metadata": {},
     "output_type": "execute_result"
    }
   ],
   "source": [
    "graph"
   ]
  },
  {
   "cell_type": "code",
   "execution_count": 550,
   "metadata": {},
   "outputs": [],
   "source": [
    "from sklearn.utils import resample"
   ]
  },
  {
   "cell_type": "code",
   "execution_count": 551,
   "metadata": {},
   "outputs": [
    {
     "data": {
      "text/plain": [
       "array([3, 4, 6, 8, 8, 4, 2, 6, 3, 0])"
      ]
     },
     "execution_count": 551,
     "metadata": {},
     "output_type": "execute_result"
    }
   ],
   "source": [
    "np.random.choice(range(10), size = 10, replace = True)\n"
   ]
  },
  {
   "cell_type": "code",
   "execution_count": 552,
   "metadata": {},
   "outputs": [],
   "source": [
    "indices = np.random.choice(range(X_.shape[0]), size = 10, replace = True)\n",
    "X_batch = X_[indices]\n",
    "y_batch = y_[indices]"
   ]
  },
  {
   "cell_type": "code",
   "execution_count": 553,
   "metadata": {},
   "outputs": [
    {
     "data": {
      "text/plain": [
       "array([14.4, 16.3, 23.4, 20.6,  8.4, 17.1, 30.8, 15.6,  5.6, 15.2])"
      ]
     },
     "execution_count": 553,
     "metadata": {},
     "output_type": "execute_result"
    }
   ],
   "source": [
    "y_batch"
   ]
  },
  {
   "cell_type": "code",
   "execution_count": 554,
   "metadata": {
    "scrolled": true
   },
   "outputs": [
    {
     "data": {
      "text/plain": [
       "array([ 48, 413,  73,  94, 438, 331,  39, 146, 400,  22])"
      ]
     },
     "execution_count": 554,
     "metadata": {},
     "output_type": "execute_result"
    }
   ],
   "source": [
    "indices"
   ]
  },
  {
   "cell_type": "code",
   "execution_count": 555,
   "metadata": {},
   "outputs": [],
   "source": [
    "def run(dictionary):\n",
    "    return topological_sort(dictionary)"
   ]
  },
  {
   "cell_type": "code",
   "execution_count": null,
   "metadata": {},
   "outputs": [],
   "source": []
  },
  {
   "cell_type": "code",
   "execution_count": 556,
   "metadata": {},
   "outputs": [
    {
     "name": "stdout",
     "output_type": "stream",
     "text": [
      " Epoch : 1, loss = 336.948\n",
      " Epoch : 101, loss = 10.882\n",
      " Epoch : 201, loss = 8.039\n",
      " Epoch : 301, loss = 6.556\n",
      " Epoch : 401, loss = 4.856\n",
      " Epoch : 501, loss = 6.808\n",
      " Epoch : 601, loss = 5.391\n",
      " Epoch : 701, loss = 4.255\n",
      " Epoch : 801, loss = 5.716\n",
      " Epoch : 901, loss = 4.762\n",
      " Epoch : 1001, loss = 4.517\n",
      " Epoch : 1101, loss = 4.624\n",
      " Epoch : 1201, loss = 4.844\n",
      " Epoch : 1301, loss = 3.710\n",
      " Epoch : 1401, loss = 4.245\n",
      " Epoch : 1501, loss = 4.248\n",
      " Epoch : 1601, loss = 3.778\n",
      " Epoch : 1701, loss = 4.784\n",
      " Epoch : 1801, loss = 4.793\n",
      " Epoch : 1901, loss = 4.609\n",
      " Epoch : 2001, loss = 4.855\n",
      " Epoch : 2101, loss = 3.906\n",
      " Epoch : 2201, loss = 4.591\n",
      " Epoch : 2301, loss = 3.677\n",
      " Epoch : 2401, loss = 4.183\n",
      " Epoch : 2501, loss = 4.250\n",
      " Epoch : 2601, loss = 3.626\n",
      " Epoch : 2701, loss = 3.630\n",
      " Epoch : 2801, loss = 3.893\n",
      " Epoch : 2901, loss = 3.455\n",
      " Epoch : 3001, loss = 3.326\n",
      " Epoch : 3101, loss = 3.541\n",
      " Epoch : 3201, loss = 4.038\n",
      " Epoch : 3301, loss = 3.731\n",
      " Epoch : 3401, loss = 4.007\n",
      " Epoch : 3501, loss = 4.041\n",
      " Epoch : 3601, loss = 3.660\n",
      " Epoch : 3701, loss = 3.625\n",
      " Epoch : 3801, loss = 3.466\n",
      " Epoch : 3901, loss = 3.200\n",
      " Epoch : 4001, loss = 3.708\n",
      " Epoch : 4101, loss = 3.282\n",
      " Epoch : 4201, loss = 3.258\n",
      " Epoch : 4301, loss = 4.140\n",
      " Epoch : 4401, loss = 3.214\n",
      " Epoch : 4501, loss = 3.927\n",
      " Epoch : 4601, loss = 3.420\n",
      " Epoch : 4701, loss = 3.747\n",
      " Epoch : 4801, loss = 3.465\n",
      " Epoch : 4901, loss = 3.572\n"
     ]
    }
   ],
   "source": [
    "losses = []\n",
    "epochs = 5000\n",
    "\n",
    "batch_size = 64\n",
    "\n",
    "steps_per_epoch = X_.shape[0] // batch_size\n",
    "\n",
    "for i in range(epochs):\n",
    "    loss = 0\n",
    "    \n",
    "    for batch in range(steps_per_epoch):\n",
    "        #indices = np.random.choice(range(X_.shape[0]), size = 10, replace = True)\n",
    "        #X_batch = X_[indices]\n",
    "        #y_batch = y_[indices]\n",
    "        X_batch, y_batch = resample(X_, y_, n_samples = batch_size)  #  The same meaning with the above code\n",
    "        \n",
    "        X.value = X_batch\n",
    "        y.value = y_batch\n",
    "        \n",
    "#         input_node_with_value = { \n",
    "#             X: X_batch,\n",
    "#             y: y_batch,\n",
    "#             W1: W1_,\n",
    "#             W2: W2_,\n",
    "#             b1: b1_,\n",
    "#             b2: b2_\n",
    "#         }\n",
    "#         graph = topological_sort(input_node_with_value)\n",
    "        \n",
    "        training_one_batch(graph)\n",
    "        \n",
    "        learning_rate = 1e-2\n",
    "        \n",
    "        sgd_update(trainable_nodes=[W1, W2, b1, b2], learning_rate= learning_rate)\n",
    "        \n",
    "        loss += graph[-1].value\n",
    "    \n",
    "    if i % 100 == 0:\n",
    "        print(' Epoch : {}, loss = {:.3f}'.format(i+1, loss/steps_per_epoch))\n",
    "        losses.append(loss)\n",
    "        "
   ]
  },
  {
   "cell_type": "code",
   "execution_count": 557,
   "metadata": {},
   "outputs": [],
   "source": [
    "import matplotlib.pyplot as plt\n"
   ]
  },
  {
   "cell_type": "code",
   "execution_count": 560,
   "metadata": {
    "scrolled": true
   },
   "outputs": [
    {
     "data": {
      "text/plain": [
       "[<matplotlib.lines.Line2D at 0x17865400898>]"
      ]
     },
     "execution_count": 560,
     "metadata": {},
     "output_type": "execute_result"
    },
    {
     "data": {
      "image/png": "[encoded data removed]",
      "text/plain": [
       "<Figure size 432x288 with 1 Axes>"
      ]
     },
     "metadata": {
      "needs_background": "light"
     },
     "output_type": "display_data"
    }
   ],
   "source": [
    "plt.plot(losses)"
   ]
  },
  {
   "cell_type": "code",
   "execution_count": 563,
   "metadata": {},
   "outputs": [
    {
     "data": {
      "text/plain": [
       "(13, 10)"
      ]
     },
     "execution_count": 563,
     "metadata": {},
     "output_type": "execute_result"
    }
   ],
   "source": [
    "W1.value.shape"
   ]
  },
  {
   "cell_type": "code",
   "execution_count": 565,
   "metadata": {},
   "outputs": [
    {
     "data": {
      "text/plain": [
       "(10, 1)"
      ]
     },
     "execution_count": 565,
     "metadata": {},
     "output_type": "execute_result"
    }
   ],
   "source": [
    "W2.value.shape"
   ]
  },
  {
   "cell_type": "code",
   "execution_count": 570,
   "metadata": {},
   "outputs": [
    {
     "data": {
      "text/plain": [
       "array([-0.41733926, -0.48772236, -0.59338101, -0.27259857, -0.74026221,\n",
       "        0.19427445,  0.36716642,  0.55715988, -0.8678825 , -0.98732948,\n",
       "       -0.30309415,  0.44105193, -0.49243937])"
      ]
     },
     "execution_count": 570,
     "metadata": {},
     "output_type": "execute_result"
    }
   ],
   "source": [
    "X_[1]"
   ]
  },
  {
   "cell_type": "markdown",
   "metadata": {},
   "source": [
    "# linear_output = Linear(X,W1,b1)\n",
    "# sigmoid_output = Sigmoid(linear_output)\n",
    "# yhat = Linear(sigmoid_output, W2,b2)\n",
    "# loss = MSE(y, yhat)"
   ]
  },
  {
   "cell_type": "code",
   "execution_count": 572,
   "metadata": {},
   "outputs": [],
   "source": [
    "x1 = Input()"
   ]
  },
  {
   "cell_type": "code",
   "execution_count": 573,
   "metadata": {},
   "outputs": [],
   "source": [
    "x1.value = X_[1]"
   ]
  },
  {
   "cell_type": "code",
   "execution_count": 575,
   "metadata": {},
   "outputs": [],
   "source": [
    "y_of_x1 = Linear(Sigmoid(Linear(x1, W1,b1)), W2,b2)"
   ]
  },
  {
   "cell_type": "code",
   "execution_count": 579,
   "metadata": {},
   "outputs": [],
   "source": [
    "y_of_x1?\n"
   ]
  },
  {
   "cell_type": "code",
   "execution_count": 580,
   "metadata": {},
   "outputs": [],
   "source": [
    "def _sigmoid(x):\n",
    "    return 1./ (1+np.exp(-1*x))"
   ]
  },
  {
   "cell_type": "code",
   "execution_count": 584,
   "metadata": {},
   "outputs": [
    {
     "data": {
      "text/plain": [
       "array([24.87091105])"
      ]
     },
     "execution_count": 584,
     "metadata": {},
     "output_type": "execute_result"
    }
   ],
   "source": [
    "np.dot(_sigmoid(np.dot(X_[1],W1.value)+ b1.value), W2.value) + b2.value"
   ]
  },
  {
   "cell_type": "code",
   "execution_count": 585,
   "metadata": {},
   "outputs": [
    {
     "data": {
      "text/plain": [
       "21.6"
      ]
     },
     "execution_count": 585,
     "metadata": {},
     "output_type": "execute_result"
    }
   ],
   "source": [
    "y_[1]"
   ]
  }
 ],
 "metadata": {
  "kernelspec": {
   "display_name": "Python 3",
   "language": "python",
   "name": "python3"
  },
  "language_info": {
   "codemirror_mode": {
    "name": "ipython",
    "version": 3
   },
   "file_extension": ".py",
   "mimetype": "text/x-python",
   "name": "python",
   "nbconvert_exporter": "python",
   "pygments_lexer": "ipython3",
   "version": "3.7.3"
  }
 },
 "nbformat": 4,
 "nbformat_minor": 2
}
