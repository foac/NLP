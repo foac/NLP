{
 "cells": [
  {
   "cell_type": "markdown",
   "metadata": {},
   "source": [
    "Dynamic Programming  \n",
    "\n",
    "+ 1. Overlapping Subproblems\n",
    "+ 2. Overlaping Computing saved in a table\n",
    "+ 3. Parse Soluion"
   ]
  },
  {
   "cell_type": "code",
   "execution_count": 1,
   "metadata": {},
   "outputs": [],
   "source": [
    "orginal_price = [1,5,8,9,10,17,17,20,24,30]"
   ]
  },
  {
   "cell_type": "code",
   "execution_count": 2,
   "metadata": {},
   "outputs": [],
   "source": [
    "from collections import defaultdict\n",
    "price = defaultdict(int)"
   ]
  },
  {
   "cell_type": "code",
   "execution_count": 3,
   "metadata": {},
   "outputs": [],
   "source": [
    "for i,p in enumerate(orginal_price):\n",
    "    price[i+1]=p"
   ]
  },
  {
   "cell_type": "code",
   "execution_count": 4,
   "metadata": {},
   "outputs": [
    {
     "data": {
      "text/plain": [
       "defaultdict(int,\n",
       "            {1: 1,\n",
       "             2: 5,\n",
       "             3: 8,\n",
       "             4: 9,\n",
       "             5: 10,\n",
       "             6: 17,\n",
       "             7: 17,\n",
       "             8: 20,\n",
       "             9: 24,\n",
       "             10: 30})"
      ]
     },
     "execution_count": 4,
     "metadata": {},
     "output_type": "execute_result"
    }
   ],
   "source": [
    "price"
   ]
  },
  {
   "cell_type": "code",
   "execution_count": 5,
   "metadata": {},
   "outputs": [
    {
     "data": {
      "text/plain": [
       "30"
      ]
     },
     "execution_count": 5,
     "metadata": {},
     "output_type": "execute_result"
    }
   ],
   "source": [
    "price[10]"
   ]
  },
  {
   "cell_type": "markdown",
   "metadata": {},
   "source": [
    "$$ r_n = max(p_n,r_1+r_n-1,r_2+r_n-2...,r_n-1+r_1)$$"
   ]
  },
  {
   "cell_type": "code",
   "execution_count": null,
   "metadata": {},
   "outputs": [],
   "source": []
  },
  {
   "cell_type": "code",
   "execution_count": 6,
   "metadata": {},
   "outputs": [],
   "source": [
    "def example(f, arg):\n",
    "    return f(arg)"
   ]
  },
  {
   "cell_type": "code",
   "execution_count": 7,
   "metadata": {},
   "outputs": [],
   "source": [
    "called_time = defaultdict(int)\n",
    "def get_call_time(f):\n",
    "    result = f()\n",
    "    print('function: {} called once !'.format(f.__name__))\n",
    "    called_time[f.__name__] += 1\n",
    "    return result"
   ]
  },
  {
   "cell_type": "code",
   "execution_count": 8,
   "metadata": {},
   "outputs": [],
   "source": [
    "def some_function_1():\n",
    "    print('I am function 1')"
   ]
  },
  {
   "cell_type": "code",
   "execution_count": 9,
   "metadata": {},
   "outputs": [
    {
     "name": "stdout",
     "output_type": "stream",
     "text": [
      "I am function 1\n",
      "function: some_function_1 called once !\n"
     ]
    }
   ],
   "source": [
    "get_call_time(some_function_1)"
   ]
  },
  {
   "cell_type": "code",
   "execution_count": 10,
   "metadata": {},
   "outputs": [
    {
     "data": {
      "text/plain": [
       "defaultdict(int, {'some_function_1': 1})"
      ]
     },
     "execution_count": 10,
     "metadata": {},
     "output_type": "execute_result"
    }
   ],
   "source": [
    "called_time"
   ]
  },
  {
   "cell_type": "code",
   "execution_count": 11,
   "metadata": {},
   "outputs": [],
   "source": [
    "from functools import wraps"
   ]
  },
  {
   "cell_type": "code",
   "execution_count": 12,
   "metadata": {},
   "outputs": [],
   "source": [
    "called_time_with_arg = defaultdict(int)\n",
    "\n",
    "def get_call_time(f):\n",
    "    @wraps(f)\n",
    "    def wrap(n):\n",
    "        '''\n",
    "        Ha aha wrap\n",
    "        '''\n",
    "       # print('I can count')\n",
    "        result = f(n)\n",
    "        called_time_with_arg[(f.__name__,n)] += 1\n",
    "        return result    \n",
    "    return wrap\n",
    "    "
   ]
  },
  {
   "cell_type": "code",
   "execution_count": 13,
   "metadata": {},
   "outputs": [],
   "source": [
    "def add_ten(n): return n+10"
   ]
  },
  {
   "cell_type": "code",
   "execution_count": 14,
   "metadata": {},
   "outputs": [],
   "source": [
    "add_ten_with_call_time = get_call_time(add_ten)"
   ]
  },
  {
   "cell_type": "code",
   "execution_count": 15,
   "metadata": {},
   "outputs": [],
   "source": [
    "@get_call_time\n",
    "#add_six=get_call_time(add_six)\n",
    "def add_six(n):\n",
    "    return n+6"
   ]
  },
  {
   "cell_type": "code",
   "execution_count": 16,
   "metadata": {},
   "outputs": [
    {
     "data": {
      "text/plain": [
       "11"
      ]
     },
     "execution_count": 16,
     "metadata": {},
     "output_type": "execute_result"
    }
   ],
   "source": [
    "add_six(5)"
   ]
  },
  {
   "cell_type": "code",
   "execution_count": 17,
   "metadata": {},
   "outputs": [
    {
     "data": {
      "text/plain": [
       "defaultdict(int, {('add_six', 5): 1})"
      ]
     },
     "execution_count": 17,
     "metadata": {},
     "output_type": "execute_result"
    }
   ],
   "source": [
    "called_time_with_arg"
   ]
  },
  {
   "cell_type": "code",
   "execution_count": 22,
   "metadata": {},
   "outputs": [],
   "source": [
    "def memo(f):\n",
    "    memo.already_computed = {}\n",
    "    def _wrap(arg):\n",
    "        result = None\n",
    "        \n",
    "        if arg in memo.already_computed:\n",
    "            result = memo.already_computed[arg]\n",
    "        else:\n",
    "            result = f(arg)\n",
    "            memo.already_computed[arg] = result\n",
    "        return result\n",
    "    return _wrap"
   ]
  },
  {
   "cell_type": "code",
   "execution_count": 23,
   "metadata": {},
   "outputs": [],
   "source": [
    "from collections import Counter\n",
    "#Counter(call_time_with_arg).most_common()"
   ]
  },
  {
   "cell_type": "code",
   "execution_count": 24,
   "metadata": {},
   "outputs": [],
   "source": [
    "solution = {}"
   ]
  },
  {
   "cell_type": "code",
   "execution_count": 25,
   "metadata": {},
   "outputs": [],
   "source": [
    "#call_time_with_arg=defaultdict(int)\n",
    "@get_call_time\n",
    "@memo\n",
    "def r(n):\n",
    "    '''\n",
    "    Args : n is the iron length\n",
    "    Return: the max revenue    '''\n",
    "    \n",
    "    #fname = r.__name__    \n",
    "    #call_time_with_arg[(fname,n)] += 1\n",
    "    \n",
    "    max_price,max_split =max([(price[n],0)] + [(r(i)+r(n-i),i) for i in range(1,n)],key = lambda x : x[0])\n",
    "    \n",
    "    solution[n] = (n-max_split,max_split)\n",
    "    return max_price\n",
    "\n"
   ]
  },
  {
   "cell_type": "code",
   "execution_count": 26,
   "metadata": {},
   "outputs": [
    {
     "data": {
      "text/plain": [
       "{}"
      ]
     },
     "execution_count": 26,
     "metadata": {},
     "output_type": "execute_result"
    }
   ],
   "source": [
    "solution"
   ]
  },
  {
   "cell_type": "code",
   "execution_count": 27,
   "metadata": {},
   "outputs": [],
   "source": [
    "def parse_solution(n):\n",
    "    r(n)\n",
    "    left_split, right_split = solution[n]\n",
    "    if right_split == 0:\n",
    "        return [left_split]\n",
    "    return parse_solution(left_split)+parse_solution(right_split)"
   ]
  },
  {
   "cell_type": "code",
   "execution_count": 28,
   "metadata": {},
   "outputs": [
    {
     "data": {
      "text/plain": [
       "85"
      ]
     },
     "execution_count": 28,
     "metadata": {},
     "output_type": "execute_result"
    }
   ],
   "source": [
    "r(29)"
   ]
  },
  {
   "cell_type": "code",
   "execution_count": 29,
   "metadata": {},
   "outputs": [
    {
     "data": {
      "text/plain": [
       "[10, 10, 10, 10, 10, 10, 10, 10, 10, 10, 10, 10]"
      ]
     },
     "execution_count": 29,
     "metadata": {},
     "output_type": "execute_result"
    }
   ],
   "source": [
    "parse_solution(120)"
   ]
  },
  {
   "cell_type": "code",
   "execution_count": 30,
   "metadata": {},
   "outputs": [
    {
     "data": {
      "text/plain": [
       "defaultdict(int,\n",
       "            {('add_six', 5): 1,\n",
       "             ('_wrap', 1): 238,\n",
       "             ('_wrap', 2): 236,\n",
       "             ('_wrap', 3): 234,\n",
       "             ('_wrap', 4): 232,\n",
       "             ('_wrap', 5): 230,\n",
       "             ('_wrap', 6): 228,\n",
       "             ('_wrap', 7): 226,\n",
       "             ('_wrap', 8): 224,\n",
       "             ('_wrap', 9): 222,\n",
       "             ('_wrap', 10): 232,\n",
       "             ('_wrap', 11): 218,\n",
       "             ('_wrap', 12): 216,\n",
       "             ('_wrap', 13): 214,\n",
       "             ('_wrap', 14): 212,\n",
       "             ('_wrap', 15): 210,\n",
       "             ('_wrap', 16): 208,\n",
       "             ('_wrap', 17): 206,\n",
       "             ('_wrap', 18): 204,\n",
       "             ('_wrap', 19): 202,\n",
       "             ('_wrap', 20): 201,\n",
       "             ('_wrap', 21): 198,\n",
       "             ('_wrap', 22): 196,\n",
       "             ('_wrap', 23): 194,\n",
       "             ('_wrap', 24): 192,\n",
       "             ('_wrap', 25): 190,\n",
       "             ('_wrap', 26): 188,\n",
       "             ('_wrap', 27): 186,\n",
       "             ('_wrap', 28): 184,\n",
       "             ('_wrap', 29): 183,\n",
       "             ('_wrap', 30): 181,\n",
       "             ('_wrap', 31): 178,\n",
       "             ('_wrap', 32): 176,\n",
       "             ('_wrap', 33): 174,\n",
       "             ('_wrap', 34): 172,\n",
       "             ('_wrap', 35): 170,\n",
       "             ('_wrap', 36): 168,\n",
       "             ('_wrap', 37): 166,\n",
       "             ('_wrap', 38): 164,\n",
       "             ('_wrap', 39): 162,\n",
       "             ('_wrap', 40): 161,\n",
       "             ('_wrap', 41): 158,\n",
       "             ('_wrap', 42): 156,\n",
       "             ('_wrap', 43): 154,\n",
       "             ('_wrap', 44): 152,\n",
       "             ('_wrap', 45): 150,\n",
       "             ('_wrap', 46): 148,\n",
       "             ('_wrap', 47): 146,\n",
       "             ('_wrap', 48): 144,\n",
       "             ('_wrap', 49): 142,\n",
       "             ('_wrap', 50): 141,\n",
       "             ('_wrap', 51): 138,\n",
       "             ('_wrap', 52): 136,\n",
       "             ('_wrap', 53): 134,\n",
       "             ('_wrap', 54): 132,\n",
       "             ('_wrap', 55): 130,\n",
       "             ('_wrap', 56): 128,\n",
       "             ('_wrap', 57): 126,\n",
       "             ('_wrap', 58): 124,\n",
       "             ('_wrap', 59): 122,\n",
       "             ('_wrap', 60): 121,\n",
       "             ('_wrap', 61): 118,\n",
       "             ('_wrap', 62): 116,\n",
       "             ('_wrap', 63): 114,\n",
       "             ('_wrap', 64): 112,\n",
       "             ('_wrap', 65): 110,\n",
       "             ('_wrap', 66): 108,\n",
       "             ('_wrap', 67): 106,\n",
       "             ('_wrap', 68): 104,\n",
       "             ('_wrap', 69): 102,\n",
       "             ('_wrap', 70): 101,\n",
       "             ('_wrap', 71): 98,\n",
       "             ('_wrap', 72): 96,\n",
       "             ('_wrap', 73): 94,\n",
       "             ('_wrap', 74): 92,\n",
       "             ('_wrap', 75): 90,\n",
       "             ('_wrap', 76): 88,\n",
       "             ('_wrap', 77): 86,\n",
       "             ('_wrap', 78): 84,\n",
       "             ('_wrap', 79): 82,\n",
       "             ('_wrap', 80): 81,\n",
       "             ('_wrap', 81): 78,\n",
       "             ('_wrap', 82): 76,\n",
       "             ('_wrap', 83): 74,\n",
       "             ('_wrap', 84): 72,\n",
       "             ('_wrap', 85): 70,\n",
       "             ('_wrap', 86): 68,\n",
       "             ('_wrap', 87): 66,\n",
       "             ('_wrap', 88): 64,\n",
       "             ('_wrap', 89): 62,\n",
       "             ('_wrap', 90): 61,\n",
       "             ('_wrap', 91): 58,\n",
       "             ('_wrap', 92): 56,\n",
       "             ('_wrap', 93): 54,\n",
       "             ('_wrap', 94): 52,\n",
       "             ('_wrap', 95): 50,\n",
       "             ('_wrap', 96): 48,\n",
       "             ('_wrap', 97): 46,\n",
       "             ('_wrap', 98): 44,\n",
       "             ('_wrap', 99): 42,\n",
       "             ('_wrap', 100): 41,\n",
       "             ('_wrap', 101): 38,\n",
       "             ('_wrap', 102): 36,\n",
       "             ('_wrap', 103): 34,\n",
       "             ('_wrap', 104): 32,\n",
       "             ('_wrap', 105): 30,\n",
       "             ('_wrap', 106): 28,\n",
       "             ('_wrap', 107): 26,\n",
       "             ('_wrap', 108): 24,\n",
       "             ('_wrap', 109): 22,\n",
       "             ('_wrap', 110): 21,\n",
       "             ('_wrap', 111): 18,\n",
       "             ('_wrap', 112): 16,\n",
       "             ('_wrap', 113): 14,\n",
       "             ('_wrap', 114): 12,\n",
       "             ('_wrap', 115): 10,\n",
       "             ('_wrap', 116): 8,\n",
       "             ('_wrap', 117): 6,\n",
       "             ('_wrap', 118): 4,\n",
       "             ('_wrap', 119): 2,\n",
       "             ('_wrap', 120): 1})"
      ]
     },
     "execution_count": 30,
     "metadata": {},
     "output_type": "execute_result"
    }
   ],
   "source": [
    "called_time_with_arg"
   ]
  },
  {
   "cell_type": "code",
   "execution_count": null,
   "metadata": {},
   "outputs": [],
   "source": []
  },
  {
   "cell_type": "code",
   "execution_count": 31,
   "metadata": {},
   "outputs": [
    {
     "name": "stdout",
     "output_type": "stream",
     "text": [
      "Help on function _wrap in module __main__:\n",
      "\n",
      "_wrap(arg)\n",
      "\n"
     ]
    }
   ],
   "source": [
    "help(r)"
   ]
  },
  {
   "cell_type": "code",
   "execution_count": 32,
   "metadata": {},
   "outputs": [
    {
     "data": {
      "text/plain": [
       "defaultdict(int,\n",
       "            {('add_six', 5): 1,\n",
       "             ('_wrap', 1): 238,\n",
       "             ('_wrap', 2): 236,\n",
       "             ('_wrap', 3): 234,\n",
       "             ('_wrap', 4): 232,\n",
       "             ('_wrap', 5): 230,\n",
       "             ('_wrap', 6): 228,\n",
       "             ('_wrap', 7): 226,\n",
       "             ('_wrap', 8): 224,\n",
       "             ('_wrap', 9): 222,\n",
       "             ('_wrap', 10): 232,\n",
       "             ('_wrap', 11): 218,\n",
       "             ('_wrap', 12): 216,\n",
       "             ('_wrap', 13): 214,\n",
       "             ('_wrap', 14): 212,\n",
       "             ('_wrap', 15): 210,\n",
       "             ('_wrap', 16): 208,\n",
       "             ('_wrap', 17): 206,\n",
       "             ('_wrap', 18): 204,\n",
       "             ('_wrap', 19): 202,\n",
       "             ('_wrap', 20): 201,\n",
       "             ('_wrap', 21): 198,\n",
       "             ('_wrap', 22): 196,\n",
       "             ('_wrap', 23): 194,\n",
       "             ('_wrap', 24): 192,\n",
       "             ('_wrap', 25): 190,\n",
       "             ('_wrap', 26): 188,\n",
       "             ('_wrap', 27): 186,\n",
       "             ('_wrap', 28): 184,\n",
       "             ('_wrap', 29): 183,\n",
       "             ('_wrap', 30): 181,\n",
       "             ('_wrap', 31): 178,\n",
       "             ('_wrap', 32): 176,\n",
       "             ('_wrap', 33): 174,\n",
       "             ('_wrap', 34): 172,\n",
       "             ('_wrap', 35): 170,\n",
       "             ('_wrap', 36): 168,\n",
       "             ('_wrap', 37): 166,\n",
       "             ('_wrap', 38): 164,\n",
       "             ('_wrap', 39): 162,\n",
       "             ('_wrap', 40): 161,\n",
       "             ('_wrap', 41): 158,\n",
       "             ('_wrap', 42): 156,\n",
       "             ('_wrap', 43): 154,\n",
       "             ('_wrap', 44): 152,\n",
       "             ('_wrap', 45): 150,\n",
       "             ('_wrap', 46): 148,\n",
       "             ('_wrap', 47): 146,\n",
       "             ('_wrap', 48): 144,\n",
       "             ('_wrap', 49): 142,\n",
       "             ('_wrap', 50): 141,\n",
       "             ('_wrap', 51): 138,\n",
       "             ('_wrap', 52): 136,\n",
       "             ('_wrap', 53): 134,\n",
       "             ('_wrap', 54): 132,\n",
       "             ('_wrap', 55): 130,\n",
       "             ('_wrap', 56): 128,\n",
       "             ('_wrap', 57): 126,\n",
       "             ('_wrap', 58): 124,\n",
       "             ('_wrap', 59): 122,\n",
       "             ('_wrap', 60): 121,\n",
       "             ('_wrap', 61): 118,\n",
       "             ('_wrap', 62): 116,\n",
       "             ('_wrap', 63): 114,\n",
       "             ('_wrap', 64): 112,\n",
       "             ('_wrap', 65): 110,\n",
       "             ('_wrap', 66): 108,\n",
       "             ('_wrap', 67): 106,\n",
       "             ('_wrap', 68): 104,\n",
       "             ('_wrap', 69): 102,\n",
       "             ('_wrap', 70): 101,\n",
       "             ('_wrap', 71): 98,\n",
       "             ('_wrap', 72): 96,\n",
       "             ('_wrap', 73): 94,\n",
       "             ('_wrap', 74): 92,\n",
       "             ('_wrap', 75): 90,\n",
       "             ('_wrap', 76): 88,\n",
       "             ('_wrap', 77): 86,\n",
       "             ('_wrap', 78): 84,\n",
       "             ('_wrap', 79): 82,\n",
       "             ('_wrap', 80): 81,\n",
       "             ('_wrap', 81): 78,\n",
       "             ('_wrap', 82): 76,\n",
       "             ('_wrap', 83): 74,\n",
       "             ('_wrap', 84): 72,\n",
       "             ('_wrap', 85): 70,\n",
       "             ('_wrap', 86): 68,\n",
       "             ('_wrap', 87): 66,\n",
       "             ('_wrap', 88): 64,\n",
       "             ('_wrap', 89): 62,\n",
       "             ('_wrap', 90): 61,\n",
       "             ('_wrap', 91): 58,\n",
       "             ('_wrap', 92): 56,\n",
       "             ('_wrap', 93): 54,\n",
       "             ('_wrap', 94): 52,\n",
       "             ('_wrap', 95): 50,\n",
       "             ('_wrap', 96): 48,\n",
       "             ('_wrap', 97): 46,\n",
       "             ('_wrap', 98): 44,\n",
       "             ('_wrap', 99): 42,\n",
       "             ('_wrap', 100): 41,\n",
       "             ('_wrap', 101): 38,\n",
       "             ('_wrap', 102): 36,\n",
       "             ('_wrap', 103): 34,\n",
       "             ('_wrap', 104): 32,\n",
       "             ('_wrap', 105): 30,\n",
       "             ('_wrap', 106): 28,\n",
       "             ('_wrap', 107): 26,\n",
       "             ('_wrap', 108): 24,\n",
       "             ('_wrap', 109): 22,\n",
       "             ('_wrap', 110): 21,\n",
       "             ('_wrap', 111): 18,\n",
       "             ('_wrap', 112): 16,\n",
       "             ('_wrap', 113): 14,\n",
       "             ('_wrap', 114): 12,\n",
       "             ('_wrap', 115): 10,\n",
       "             ('_wrap', 116): 8,\n",
       "             ('_wrap', 117): 6,\n",
       "             ('_wrap', 118): 4,\n",
       "             ('_wrap', 119): 2,\n",
       "             ('_wrap', 120): 1})"
      ]
     },
     "execution_count": 32,
     "metadata": {},
     "output_type": "execute_result"
    }
   ],
   "source": [
    "called_time_with_arg"
   ]
  }
 ],
 "metadata": {
  "kernelspec": {
   "display_name": "Python 3",
   "language": "python",
   "name": "python3"
  },
  "language_info": {
   "codemirror_mode": {
    "name": "ipython",
    "version": 3
   },
   "file_extension": ".py",
   "mimetype": "text/x-python",
   "name": "python",
   "nbconvert_exporter": "python",
   "pygments_lexer": "ipython3",
   "version": "3.7.3"
  }
 },
 "nbformat": 4,
 "nbformat_minor": 2
}
