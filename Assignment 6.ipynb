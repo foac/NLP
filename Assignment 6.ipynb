{
 "cells": [
  {
   "attachments": {},
   "cell_type": "markdown",
   "metadata": {},
   "source": [
    "# 欠拟合、过拟合原因总结\n",
    "1、 欠拟合原因：数据量较少、数据量采样偏差；  \n",
    "2、  过拟合原因：数据量较大、学习能力过强；  \n",
    "\n",
    "# 3个场景：机器学习已经被用到\n",
    "\n",
    "1、自动驾驶\n",
    "2、头像识别\n",
    "3、推荐算法\n",
    "\n",
    "\n",
    "# 可能会用到机器学习的场景!\n",
    "\n",
    "机器人秘书、律师、咨询、会计、排版、版图设计、广告等"
   ]
  },
  {
   "cell_type": "code",
   "execution_count": null,
   "metadata": {},
   "outputs": [],
   "source": []
  }
 ],
 "metadata": {
  "kernelspec": {
   "display_name": "Python 3",
   "language": "python",
   "name": "python3"
  },
  "language_info": {
   "codemirror_mode": {
    "name": "ipython",
    "version": 3
   },
   "file_extension": ".py",
   "mimetype": "text/x-python",
   "name": "python",
   "nbconvert_exporter": "python",
   "pygments_lexer": "ipython3",
   "version": "3.7.3"
  }
 },
 "nbformat": 4,
 "nbformat_minor": 2
}
