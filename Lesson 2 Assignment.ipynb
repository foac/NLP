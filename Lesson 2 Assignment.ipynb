{
 "cells": [
  {
   "cell_type": "markdown",
   "metadata": {},
   "source": [
    "1. Re-code the house price machine learning  \n",
    "1. Random Choose Method to get optimal k and b  \n",
    "2.Supervised Direction to get optimal k and b  \n"
   ]
  },
  {
   "cell_type": "markdown",
   "metadata": {},
   "source": [
    "2. Answer following questions:\n",
    "1. Why do we need machine learning methods instead of creating a complicated formula?\n",
    "Ans:难以找到合适的公式去拟合\n",
    "\n",
    "2. Wha't's the disadvantages of the 1st Random Choosen methods in our course?\n",
    "Ans:随机方法慢、效率低；没有一定方向\n",
    "\n",
    "3. Is the 2nd method supervised direction better than 1st one? What's the disadvantages of the 2nd supversied directin method?\n",
    "Ans:第二种更好；缺点，初始值选取有一定要求，可能会收敛到局部最优解\n",
    "\n",
    "4. Why do we use Derivative / Gredient to fit a target function?\n",
    "Ans:1、有方向；2、有速度，离解越远，步长越大；趋近与解时，补偿会变慢，可防止振荡\n",
    "\n",
    "5. In the words 'Gredient Descent', what's the Gredient and what's the Descent?\n",
    "Ans:度是变化率最大的方向导数；下降表示要达到最小值，以梯度相反的方向\n",
    "\n",
    "6. What's the advantages of the 3rd gradient descent method compared to the previous methods?\n",
    "Ans:\n",
    "\n",
    "7. Using the simple words to describe: What's the machine leanring.\n",
    "Ans::监督学习和无监督学习；数据驱动，但对本质逻辑要求不高"
   ]
  },
  {
   "cell_type": "markdown",
   "metadata": {},
   "source": [
    "3. Finish the search problem\n",
    "Please using the search policy to implement an agent. \n",
    "This agent receives two input, one is @param start station and the other is @param destination. Your agent should give the optimal route based on Beijing Subway system."
   ]
  },
  {
   "cell_type": "code",
   "execution_count": 1,
   "metadata": {},
   "outputs": [
    {
     "data": {
      "text/plain": [
       "['https://baike.baidu.com/item/%E5%8C%97%E4%BA%AC%E5%9C%B0%E9%93%811%E5%8F%B7%E7%BA%BF',\n",
       " 'https://baike.baidu.com/item/%E5%8C%97%E4%BA%AC%E5%9C%B0%E9%93%8113%E5%8F%B7%E7%BA%BF',\n",
       " 'https://baike.baidu.com/item/%E5%8C%97%E4%BA%AC%E5%9C%B0%E9%93%81%E5%85%AB%E9%80%9A%E7%BA%BF',\n",
       " 'https://baike.baidu.com/item/%E5%8C%97%E4%BA%AC%E5%9C%B0%E9%93%815%E5%8F%B7%E7%BA%BF',\n",
       " 'https://baike.baidu.com/item/%E5%8C%97%E4%BA%AC%E5%9C%B0%E9%93%818%E5%8F%B7%E7%BA%BF',\n",
       " 'https://baike.baidu.com/item/%E5%8C%97%E4%BA%AC%E5%9C%B0%E9%93%8110%E5%8F%B7%E7%BA%BF',\n",
       " 'https://baike.baidu.com/item/%E5%8C%97%E4%BA%AC%E5%9C%B0%E9%93%81%E6%9C%BA%E5%9C%BA%E7%BA%BF',\n",
       " 'https://baike.baidu.com/item/%E5%8C%97%E4%BA%AC%E5%9C%B0%E9%93%814%E5%8F%B7%E7%BA%BF',\n",
       " 'https://baike.baidu.com/item/%E5%8C%97%E4%BA%AC%E5%9C%B0%E9%93%8115%E5%8F%B7%E7%BA%BF',\n",
       " 'https://baike.baidu.com/item/%E5%8C%97%E4%BA%AC%E5%9C%B0%E9%93%81%E6%98%8C%E5%B9%B3%E7%BA%BF',\n",
       " 'https://baike.baidu.com/item/%E5%8C%97%E4%BA%AC%E5%9C%B0%E9%93%81%E5%A4%A7%E5%85%B4%E7%BA%BF',\n",
       " 'https://baike.baidu.com/item/%E5%8C%97%E4%BA%AC%E5%9C%B0%E9%93%81%E6%88%BF%E5%B1%B1%E7%BA%BF',\n",
       " 'https://baike.baidu.com/item/%E5%8C%97%E4%BA%AC%E5%9C%B0%E9%93%81%E4%BA%A6%E5%BA%84%E7%BA%BF',\n",
       " 'https://baike.baidu.com/item/%E5%8C%97%E4%BA%AC%E5%9C%B0%E9%93%819%E5%8F%B7%E7%BA%BF',\n",
       " 'https://baike.baidu.com/item/%E5%8C%97%E4%BA%AC%E5%9C%B0%E9%93%816%E5%8F%B7%E7%BA%BF',\n",
       " 'https://baike.baidu.com/item/%E5%8C%97%E4%BA%AC%E5%9C%B0%E9%93%8114%E5%8F%B7%E7%BA%BF',\n",
       " 'https://baike.baidu.com/item/%E5%8C%97%E4%BA%AC%E5%9C%B0%E9%93%817%E5%8F%B7%E7%BA%BF',\n",
       " 'https://baike.baidu.com/item/%E5%8C%97%E4%BA%AC%E5%9C%B0%E9%93%8116%E5%8F%B7%E7%BA%BF',\n",
       " 'https://baike.baidu.com/item/%E5%8C%97%E4%BA%AC%E5%9C%B0%E9%93%81%E8%A5%BF%E9%83%8A%E7%BA%BF',\n",
       " 'https://baike.baidu.com/item/%E5%8C%97%E4%BA%AC%E5%9C%B0%E9%93%81S1%E7%BA%BF',\n",
       " 'https://baike.baidu.com/item/%E5%8C%97%E4%BA%AC%E5%9C%B0%E9%93%81%E7%87%95%E6%88%BF%E7%BA%BF',\n",
       " 'https://baike.baidu.com/item/%E5%8C%97%E4%BA%AC%E5%9C%B0%E9%93%812%E5%8F%B7%E7%BA%BF']"
      ]
     },
     "execution_count": 1,
     "metadata": {},
     "output_type": "execute_result"
    }
   ],
   "source": [
    "import requests\n",
    "import re\n",
    "import random\n",
    "url = 'https://baike.baidu.com/item/%E5%8C%97%E4%BA%AC%E5%9C%B0%E9%93%81/408485'\n",
    "#response = requests.get(url) # source code\n",
    "\n",
    "headers = {\n",
    "'user-agent': 'Mozilla / 5.0(Windows NT 10.0; WOW64) AppleWebKit / 537.36(KHTML, likeGecko) Chrome / 53.0.2785.104Safari / 537.36Core / 1.53.4882.400QQBrowser / 9.7.13059.400'\n",
    "}\n",
    "response = requests.get('https://baike.baidu.com/item/%E5%8C%97%E4%BA%AC%E5%9C%B0%E9%93%81/408485', headers = headers)\n",
    "response.encoding = 'utf-8'\n",
    "\n",
    "what_we_want = r'(/item/(%.\\w+)+)\">北京地铁'\n",
    "\n",
    "pattern = re.compile(what_we_want) # normal expression \n",
    "lines = pattern.findall(response.text)\n",
    "\n",
    "metrol_lines=[]\n",
    "\n",
    "for line in lines:\n",
    "    line_new = \"https://baike.baidu.com\"+(line[0])\n",
    "    if line_new not in metrol_lines:\n",
    "        metrol_lines.append(line_new)\n",
    "metrol_lines "
   ]
  },
  {
   "cell_type": "code",
   "execution_count": 2,
   "metadata": {},
   "outputs": [],
   "source": [
    "from collections import defaultdict\n",
    "totol_stations=[]\n",
    "line_connection = defaultdict(list)\n",
    "for url in metrol_lines:\n",
    "    response = requests.get(url, headers = headers)\n",
    "    response.encoding = 'utf-8'\n",
    "    \n",
    "    Stops = [r'<tr><td align=\"center\" valign=\"middle\" colspan=\"1\" rowspan=\"1\">(\\w+)</td>',r'<tr><th align=\"center\" valign=\"middle\">(\\w+)</th>',r'<th width=\"98\">(\\w+)</th><td width=\"\\d\\d\\d\" align=\"center\" valign=\"middle\">',r'<th width=\"\\d\\d\" align=\"center\" valign=\"middle\">(\\w+)</th>',r'(\\w+)</th><td width=\"\\d+\" align=\"center\" valign=\"middle\" colspan=\"\\d+\" rowspan=\"\\d+\">\\d+:\\d+']\n",
    "    #Stop = r'<tr><td align=\"center\" valign=\"middle\" colspan=\"1\" rowspan=\"1\">(\\w+)</td>|<tr><th align=\"center\" valign=\"middle\">(\\w+)</th>|<th width=\"98\">(\\w+)</th><td width=\"\\d\\d\\d\" align=\"center\" valign=\"middle\">|<th width=\"\\d\\d\" align=\"center\" valign=\"middle\">(\\w+)</th>|(\\w+)</th><td width=\"\\d+\" align=\"center\" valign=\"middle\" colspan=\"\\d+\" rowspan=\"\\d+\">\\d+:\\d+'\n",
    "    #Stop2 = r'(<tr><th align=\"center\" valign=\"middle\">(\\w+)</th><td width=\"\\d\\d\" align=\"center\" valign=\"middle\">'    \n",
    "    for stop in Stops:\n",
    "        pattern = re.compile(stop)\n",
    "        st = pattern.findall(response.text)\n",
    "        if st:\n",
    "            stations = st            \n",
    "    \n",
    "    line = r'<title>(\\w+)_百度百科</title>'\n",
    "    pattern2 = re.compile(line)\n",
    "    line_name = pattern2.findall(response.text) \n",
    "    \n",
    "    line_connection[line_name[0]]=stations\n",
    "    \n"
   ]
  },
  {
   "cell_type": "code",
   "execution_count": 3,
   "metadata": {},
   "outputs": [
    {
     "data": {
      "text/plain": [
       "defaultdict(list,\n",
       "            {'北京地铁1号线': ['苹果园',\n",
       "              '古城',\n",
       "              '八角游乐园',\n",
       "              '八宝山',\n",
       "              '玉泉路',\n",
       "              '五棵松',\n",
       "              '万寿路',\n",
       "              '公主坟',\n",
       "              '军事博物馆',\n",
       "              '木樨地',\n",
       "              '南礼士路',\n",
       "              '复兴门',\n",
       "              '西单',\n",
       "              '天安门西',\n",
       "              '天安门东',\n",
       "              '王府井',\n",
       "              '东单',\n",
       "              '建国门',\n",
       "              '永安里',\n",
       "              '国贸',\n",
       "              '大望路',\n",
       "              '四惠',\n",
       "              '四惠东'],\n",
       "             '北京地铁13号线': ['车站名称',\n",
       "              '西直门',\n",
       "              '大钟寺',\n",
       "              '知春路',\n",
       "              '五道口',\n",
       "              '上地',\n",
       "              '西二旗',\n",
       "              '龙泽',\n",
       "              '回龙观',\n",
       "              '霍营',\n",
       "              '立水桥',\n",
       "              '北苑',\n",
       "              '望京西',\n",
       "              '芍药居',\n",
       "              '光熙门',\n",
       "              '柳芳',\n",
       "              '东直门'],\n",
       "             '北京地铁八通线': ['所属区段', '开通日期', '所在行政区'],\n",
       "             '北京地铁5号线': ['宋家庄',\n",
       "              '刘家窑',\n",
       "              '蒲黄榆',\n",
       "              '天坛东门',\n",
       "              '磁器口',\n",
       "              '崇文门',\n",
       "              '东单',\n",
       "              '灯市口',\n",
       "              '东四',\n",
       "              '张自忠路',\n",
       "              '北新桥',\n",
       "              '雍和宫',\n",
       "              '和平里北街',\n",
       "              '和平西桥',\n",
       "              '惠新西街南口',\n",
       "              '惠新西街北口',\n",
       "              '大屯路东',\n",
       "              '北苑路北',\n",
       "              '立水桥南',\n",
       "              '立水桥',\n",
       "              '天通苑南',\n",
       "              '天通苑',\n",
       "              '天通苑北'],\n",
       "             '北京地铁8号线': ['朱辛庄'],\n",
       "             '北京地铁10号线': ['朱辛庄'],\n",
       "             '北京地铁机场线': ['车站名称', '可转乘线路'],\n",
       "             '北京地铁4号线': ['401',\n",
       "              '402',\n",
       "              '403',\n",
       "              '404',\n",
       "              '405',\n",
       "              '406',\n",
       "              '407',\n",
       "              '408',\n",
       "              '409',\n",
       "              '410',\n",
       "              '411',\n",
       "              '4123',\n",
       "              '413',\n",
       "              '414',\n",
       "              '415',\n",
       "              '416',\n",
       "              '417',\n",
       "              '418',\n",
       "              '419',\n",
       "              '420',\n",
       "              '421',\n",
       "              '422',\n",
       "              '423',\n",
       "              '424',\n",
       "              '安河桥北',\n",
       "              '北宫门',\n",
       "              '西苑',\n",
       "              '圆明园',\n",
       "              '北京大学东门',\n",
       "              '中关村',\n",
       "              '海淀黄庄',\n",
       "              '人民大学',\n",
       "              '魏公村',\n",
       "              '国家图书馆',\n",
       "              '动物园',\n",
       "              '西直门',\n",
       "              '新街口',\n",
       "              '平安里',\n",
       "              '西四',\n",
       "              '灵境胡同',\n",
       "              '西单',\n",
       "              '宣武门',\n",
       "              '菜市口',\n",
       "              '陶然亭',\n",
       "              '北京南站',\n",
       "              '马家堡',\n",
       "              '角门西',\n",
       "              '公益西桥'],\n",
       "             '北京地铁15号线': ['望京东', '大屯路东'],\n",
       "             '北京地铁昌平线': ['车站名称', '所在行政区'],\n",
       "             '北京地铁大兴线': ['所属区段', '所在行政区'],\n",
       "             '北京地铁房山线': ['车站名称',\n",
       "              '车站名称',\n",
       "              '郭公庄',\n",
       "              '大葆台',\n",
       "              '稻田',\n",
       "              '长阳',\n",
       "              '篱笆房',\n",
       "              '广阳城',\n",
       "              '良乡大学城北',\n",
       "              '良乡大学城',\n",
       "              '良乡大学城西',\n",
       "              '良乡南关',\n",
       "              '苏庄'],\n",
       "             '北京地铁亦庄线': ['车站名称', '敷设方式', '站厅形式', '站台形式', '参考资料'],\n",
       "             '北京地铁9号线': ['车站名称', '敷设方式', '站厅形式', '站台形式', '参考资料'],\n",
       "             '北京地铁6号线': ['所在行政区'],\n",
       "             '北京地铁14号线': ['工程名称', '车站名称', '开门方向'],\n",
       "             '北京地铁7号线': ['所属区段'],\n",
       "             '北京地铁16号线': ['停车场'],\n",
       "             '北京现代有轨电车西郊线': ['停车场'],\n",
       "             '北京地铁S1线': ['停车场'],\n",
       "             '北京地铁燕房线': ['YF01',\n",
       "              'YF02',\n",
       "              'YF03',\n",
       "              'YF04',\n",
       "              'YF05',\n",
       "              'YF06',\n",
       "              'YF07',\n",
       "              'YF08',\n",
       "              'YF09'],\n",
       "             '北京地铁2号线': ['YF01',\n",
       "              'YF02',\n",
       "              'YF03',\n",
       "              'YF04',\n",
       "              'YF05',\n",
       "              'YF06',\n",
       "              'YF07',\n",
       "              'YF08',\n",
       "              'YF09']})"
      ]
     },
     "execution_count": 3,
     "metadata": {},
     "output_type": "execute_result"
    }
   ],
   "source": [
    "line_connection"
   ]
  },
  {
   "cell_type": "code",
   "execution_count": 8,
   "metadata": {},
   "outputs": [],
   "source": [
    "def data_write_csv(file_name, datas):#file_name为写入CSV文件的路径，datas为要写入数据列表\n",
    "    file_csv = codecs.open(file_name,'w+','utf-8')#追加\n",
    "    writer = csv.writer(file_csv, delimiter=' ', quotechar=' ', quoting=csv.QUOTE_MINIMAL)\n",
    "    for data in datas:\n",
    "        writer.writerow(data)\n"
   ]
  },
  {
   "cell_type": "code",
   "execution_count": 11,
   "metadata": {},
   "outputs": [],
   "source": [
    "#data_write_csv(metro.csv,line_connection )\n",
    "with open('metro.csv', 'w') as f:\n",
    "    [f.write('{0},{1}\\n'.format(key, value)) for key, value in line_connection.items()]"
   ]
  },
  {
   "cell_type": "code",
   "execution_count": 5,
   "metadata": {},
   "outputs": [
    {
     "data": {
      "text/plain": [
       "[]"
      ]
     },
     "execution_count": 5,
     "metadata": {},
     "output_type": "execute_result"
    }
   ],
   "source": [
    "url = 'https://baike.baidu.com/item/%E5%8C%97%E4%BA%AC%E5%9C%B0%E9%93%8113%E5%8F%B7%E7%BA%BF'\n",
    "\n",
    "response = requests.get(url, headers = headers)\n",
    "response.encoding = 'utf-8'\n",
    "\n",
    "Stop =r'<tr><td align=\"center\" valign=\"middle\" colspan=\"1\" rowspan=\"1\">(\\w+)</td>' \n",
    "pattern = re.compile(Stop)\n",
    "stations = pattern.findall(response.text)\n",
    "\n",
    "\n",
    "line = r'<title>(\\w+)_百度百科</title>'\n",
    "pattern2 = re.compile(line)\n",
    "line_name = pattern2.findall(response.text) \n"
   ]
  },
  {
   "cell_type": "code",
   "execution_count": 2,
   "metadata": {},
   "outputs": [
    {
     "ename": "IndentationError",
     "evalue": "unindent does not match any outer indentation level (<tokenize>, line 26)",
     "output_type": "error",
     "traceback": [
      "\u001b[1;36m  File \u001b[1;32m\"<tokenize>\"\u001b[1;36m, line \u001b[1;32m26\u001b[0m\n\u001b[1;33m    同济南路 经海路 次渠南 次渠'''\u001b[0m\n\u001b[1;37m    ^\u001b[0m\n\u001b[1;31mIndentationError\u001b[0m\u001b[1;31m:\u001b[0m unindent does not match any outer indentation level\n"
     ]
    }
   ],
   "source": [
    "Metro = '''\n",
    "line1=u'''苹果园 古城路 八角游乐园 八宝山 玉泉路 五棵松 万寿路 公主坟 军事博物馆 木樨地\n",
    "南礼士路 复兴门 西单 天安门西 天安门东 王府井 东单 建国门 永安里 国贸 大望路 四惠 四惠东'''\n",
    "line2=u'''西直门 车公庄 阜成门 复兴门 长椿街 宣武门 和平门 前门 崇文门 北京站 建国门\n",
    "朝阳门 东四十条 东直门 雍和宫 安定门 鼓楼大街 积水潭'''\n",
    "line5=u'''宋家庄 刘家窑 蒲黄榆 天坛东门 磁器口 崇文门 东单 灯市口 东四 张自忠路\n",
    "北新桥 雍和宫 和平里北街 和平西桥 惠新西街南口 惠新西街北口 大屯桥东 北苑路北 立水桥南 立水桥 天通苑南 天通苑 天通苑北'''\n",
    "line4=u'''天宫院 生物医药基地 义和庄 黄村火车站 黄村西大街 清源路 枣园 高米店南\n",
    "高米店北 西红门 新宫 公益西桥 角门西 马家堡 北京南站 陶然亭 菜市口 宣武门 西单 灵境胡同 西四\n",
    "平安里 新街口 西直门 动物园 国家图书馆 魏公村 人民大学 海淀黄庄 中关村 北京大学东门 圆明园 西苑 北宫门 安河桥北'''\n",
    "line6=u'''海淀五路居 慈寿寺 白石桥南 车公庄西 车公庄 平安里 北海北 南锣鼓巷 东四 朝阳门 东大桥\n",
    "呼家楼 金台路 十里堡 青年路 褡裢坡 黄渠 常营 草房 物资学院路 通州北关 通运门 北运河西 北运河东 郝家府 东夏园 潞城'''\n",
    "line8=u'''朱辛庄 育知路 平西府 回龙观东大街 霍营 育新 西小口 永泰庄 林萃桥 森林公园南门\n",
    "奥林匹克公园 奥体中心 北土城 安华桥 鼓楼大街 什刹海 南锣鼓巷'''\n",
    "line9=u'''国家图书馆 白石桥南 白堆子 军事博物馆 北京西站 六里桥东 六里桥 七里庄\n",
    "丰台东大街 丰台南路 科怡路 丰台科技园 郭公庄'''\n",
    "line10=u'''劲松 双井 国贸 金台夕照 呼家楼 团结湖 农业展览馆 亮马桥 三元桥 太阳宫 芍药居\n",
    "惠新西街南口 安贞门 北土城 健德门 牡丹园 西土城 知春路 知春里 海淀黄庄 苏州街 巴沟 火器营\n",
    "长春桥 车道沟 慈寿寺 西钓鱼台 公主坟 莲花桥 六里桥 西局 泥洼 丰台站 首经贸 纪家庙 草桥\n",
    "角门西 角门东 大红门 石榴庄 宋家庄 成寿寺 分钟寺 十里河 潘家园'''\n",
    "line13=u'''西直门 大钟寺 知春路 五道口 上地 西二旗 龙泽 回龙观 霍营 立水桥 北苑 望京西\n",
    "                        芍药居 光熙门 柳芳 东直门'''\n",
    "line14=u'''张郭庄 园博园 大瓦窑 郭庄子 打井 七里庄 西局'''\n",
    "line15=u'''俸伯 顺义 石门 南法信 后沙峪 花梨坎 国展 孙河 马泉营 崔各庄望京 望京西'''\n",
    "YiZhuangLine=u'''宋家庄 肖村 小红门 旧宫 亦庄桥 亦庄文化园 万源街 荣京东街 荣昌东街\n",
    "                       同济南路 经海路 次渠南 次渠'''\n",
    "FangShanLine=u'''郭公庄 大葆台 稻田 长阳 篱笆房 广阳城 良乡大学城北 良乡大学城 良乡大学城西 良乡南关 苏庄'''\n",
    "ChangPingLine=u'西二旗 生命科学园 朱辛庄 巩华城 沙河 沙河高教园 南邵'\n",
    "BaTongLine=u'''四惠 四惠东 高碑店 中国传媒大学 双桥 管庄 八里桥 通州北苑 果园 九棵树 梨园 临河里 土桥'''\n",
    "\n",
    "'''\n"
   ]
  },
  {
   "cell_type": "code",
   "execution_count": 2,
   "metadata": {},
   "outputs": [],
   "source": [
    "def build_subway(**lines):\n",
    "    \"\"\"\n",
    "    Input is build_subway(linename='station1 station2...'...)\n",
    "    Ouput is a dictionary like {station:{neighbor1:line number,neighbor2:line number,...},station2:{...},...}\n",
    "    \"\"\"\n",
    "    for key in lines.keys():\n",
    "        value = lines[key]\n",
    "        lines[key] = value.split()\n",
    "    stations = set()\n",
    "    for key in lines.keys():\n",
    "        stations.update(set(lines[key]))\n",
    "    system = {}\n",
    "    for station in stations:\n",
    "        next_station = {}\n",
    "        for key in lines:\n",
    "            if station in lines[key]:\n",
    "                line = lines[key]\n",
    "                idx = line.index(station)\n",
    "                if idx == 0:\n",
    "                    next_station[line[1]] = key\n",
    "                elif idx == len(line)-1:\n",
    "                    next_station[line[idx-1]]=key\n",
    "                else:\n",
    "                    next_station[line[idx-1]] = key\n",
    "                    next_station[line[idx+1]] = key\n",
    "        system[station] = next_station\n",
    "    return system\n"
   ]
  },
  {
   "cell_type": "code",
   "execution_count": 3,
   "metadata": {},
   "outputs": [
    {
     "data": {
      "text/plain": [
       "array(['CRIM', 'ZN', 'INDUS', 'CHAS', 'NOX', 'RM', 'AGE', 'DIS', 'RAD',\n",
       "       'TAX', 'PTRATIO', 'B', 'LSTAT'], dtype='<U7')"
      ]
     },
     "execution_count": 3,
     "metadata": {},
     "output_type": "execute_result"
    }
   ],
   "source": [
    "from sklearn.datasets import load_boston\n",
    "\n",
    "data = load_boston()\n",
    "\n",
    "data['feature_names']\n"
   ]
  },
  {
   "cell_type": "code",
   "execution_count": 13,
   "metadata": {},
   "outputs": [],
   "source": [
    "X, y = data['data'], data['target']\n",
    "X_rm = X[:,5]"
   ]
  },
  {
   "cell_type": "code",
   "execution_count": 14,
   "metadata": {},
   "outputs": [
    {
     "data": {
      "text/plain": [
       "<matplotlib.collections.PathCollection at 0x1d52aa76780>"
      ]
     },
     "execution_count": 14,
     "metadata": {},
     "output_type": "execute_result"
    },
    {
     "data": {
      "image/png": "[encoded data removed]",
      "text/plain": [
       "<Figure size 432x288 with 1 Axes>"
      ]
     },
     "metadata": {
      "needs_background": "light"
     },
     "output_type": "display_data"
    }
   ],
   "source": [
    "%matplotlib inline\n",
    "import matplotlib.pyplot as plt\n",
    "plt.scatter(X[:,0],y)"
   ]
  },
  {
   "cell_type": "code",
   "execution_count": 15,
   "metadata": {},
   "outputs": [],
   "source": [
    "def draw_rm_and_price():\n",
    "    plt.scatter(X[:,5],y)"
   ]
  },
  {
   "cell_type": "code",
   "execution_count": 16,
   "metadata": {},
   "outputs": [],
   "source": [
    "import random"
   ]
  },
  {
   "cell_type": "code",
   "execution_count": 17,
   "metadata": {},
   "outputs": [],
   "source": [
    "def price(rm,k,b):\n",
    "    return k * rm + b"
   ]
  },
  {
   "cell_type": "code",
   "execution_count": 18,
   "metadata": {},
   "outputs": [],
   "source": [
    "def loss(y,y_hat):\n",
    "    return sum((y_i-y_hat_i)**2 for y_i, y_hat_i in zip(list(y),list(y_hat)))/len(list(y))"
   ]
  },
  {
   "cell_type": "code",
   "execution_count": 20,
   "metadata": {},
   "outputs": [
    {
     "name": "stdout",
     "output_type": "stream",
     "text": [
      "When time is : 0 Get best_k:-72.3882516581192 best_b: 34.186277688288385, and the loss is : 199812.7884745996\n",
      "When time is : 2 Get best_k:-58.25390910814854 best_b: -2.4528087767364326, and the loss is : 155230.37062185135\n",
      "When time is : 5 Get best_k:29.291603061217245 best_b: -74.53478010176013, and the loss is : 7816.811941894262\n",
      "When time is : 8 Get best_k:18.812973456272218 best_b: -67.49079211607713, and the loss is : 885.8132976854257\n",
      "When time is : 23 Get best_k:-2.247568195864204 best_b: 35.053043977339655, and the loss is : 109.64289636671721\n",
      "When time is : 74 Get best_k:13.657923663813932 best_b: -64.16565037517456, and the loss is : 54.57212095353469\n",
      "When time is : 77 Get best_k:6.423688814287914 best_b: -15.689121844148374, and the loss is : 51.751628988842846\n",
      "When time is : 541 Get best_k:11.061163234157405 best_b: -47.42697685734962, and the loss is : 45.688969468653816\n",
      "When time is : 1911 Get best_k:8.816173952091958 best_b: -33.75250526159748, and the loss is : 44.41326683042081\n"
     ]
    }
   ],
   "source": [
    "trying_time = 10000\n",
    "min_loss = float('inf')\n",
    "best_k, best_b = None, None\n",
    "\n",
    "for i in range(trying_time):    \n",
    "    k = random.random()*200-100\n",
    "    b = random.random()*200-100\n",
    "    price_by_random_k_and_b = [price(r, k, b) for r in X_rm]\n",
    "    \n",
    "    current_loss = loss(y, price_by_random_k_and_b)\n",
    "    if current_loss < min_loss:\n",
    "        min_loss = current_loss\n",
    "        best_k = k\n",
    "        best_b = b\n",
    "        print('When time is : {} Get best_k:{} best_b: {}, and the loss is : {}'.format(i, best_k, best_b, min_loss))"
   ]
  },
  {
   "cell_type": "code",
   "execution_count": 22,
   "metadata": {},
   "outputs": [
    {
     "name": "stdout",
     "output_type": "stream",
     "text": [
      "When time is : 0 Get best_k:-63.85303598559412 best_b: -96.34029232489733, and the loss is : 240496.58705120912\n",
      "When time is : 1 Get best_k:-62.85303598559412 best_b: -97.34029232489733, and the loss is : 233373.13242186085\n",
      "When time is : 2 Get best_k:-61.85303598559412 best_b: -98.34029232489733, and the loss is : 226356.79497925984\n",
      "When time is : 3 Get best_k:-60.85303598559412 best_b: -99.34029232489733, and the loss is : 219447.57472340533\n",
      "When time is : 4 Get best_k:-59.85303598559412 best_b: -100.34029232489733, and the loss is : 212645.4716542982\n",
      "When time is : 5 Get best_k:-58.85303598559412 best_b: -101.34029232489733, and the loss is : 205950.4857719381\n",
      "When time is : 6 Get best_k:-57.85303598559412 best_b: -102.34029232489733, and the loss is : 199362.61707632494\n",
      "When time is : 7 Get best_k:-56.85303598559412 best_b: -103.34029232489733, and the loss is : 192881.8655674588\n",
      "When time is : 8 Get best_k:-55.85303598559412 best_b: -104.34029232489733, and the loss is : 186508.2312453398\n",
      "When time is : 9 Get best_k:-54.85303598559412 best_b: -105.34029232489733, and the loss is : 180241.71410996787\n",
      "When time is : 10 Get best_k:-53.85303598559412 best_b: -106.34029232489733, and the loss is : 174082.31416134283\n",
      "When time is : 11 Get best_k:-52.85303598559412 best_b: -107.34029232489733, and the loss is : 168030.03139946505\n",
      "When time is : 12 Get best_k:-51.85303598559412 best_b: -108.34029232489733, and the loss is : 162084.86582433403\n",
      "When time is : 13 Get best_k:-50.85303598559412 best_b: -109.34029232489733, and the loss is : 156246.81743595004\n",
      "When time is : 14 Get best_k:-49.85303598559412 best_b: -110.34029232489733, and the loss is : 150515.8862343133\n",
      "When time is : 15 Get best_k:-48.85303598559412 best_b: -111.34029232489733, and the loss is : 144892.07221942337\n",
      "When time is : 16 Get best_k:-47.85303598559412 best_b: -112.34029232489733, and the loss is : 139375.37539128074\n",
      "When time is : 17 Get best_k:-46.85303598559412 best_b: -113.34029232489733, and the loss is : 133965.79574988497\n",
      "When time is : 18 Get best_k:-45.85303598559412 best_b: -114.34029232489733, and the loss is : 128663.33329523634\n",
      "When time is : 19 Get best_k:-44.85303598559412 best_b: -115.34029232489733, and the loss is : 123467.9880273346\n",
      "When time is : 20 Get best_k:-43.85303598559412 best_b: -116.34029232489733, and the loss is : 118379.75994617993\n",
      "When time is : 21 Get best_k:-42.85303598559412 best_b: -117.34029232489733, and the loss is : 113398.64905177239\n",
      "When time is : 22 Get best_k:-41.85303598559412 best_b: -118.34029232489733, and the loss is : 108524.65534411187\n",
      "When time is : 23 Get best_k:-40.85303598559412 best_b: -119.34029232489733, and the loss is : 103757.77882319837\n",
      "When time is : 24 Get best_k:-39.85303598559412 best_b: -120.34029232489733, and the loss is : 99098.01948903185\n",
      "When time is : 25 Get best_k:-38.85303598559412 best_b: -121.34029232489733, and the loss is : 94545.37734161237\n",
      "When time is : 26 Get best_k:-37.85303598559412 best_b: -122.34029232489733, and the loss is : 90099.85238094006\n",
      "When time is : 27 Get best_k:-36.85303598559412 best_b: -123.34029232489733, and the loss is : 85761.4446070146\n",
      "When time is : 28 Get best_k:-35.85303598559412 best_b: -124.34029232489733, and the loss is : 81530.15401983629\n",
      "When time is : 29 Get best_k:-34.85303598559412 best_b: -125.34029232489733, and the loss is : 77405.98061940506\n",
      "When time is : 30 Get best_k:-33.85303598559412 best_b: -126.34029232489733, and the loss is : 73388.9244057207\n",
      "When time is : 31 Get best_k:-32.85303598559412 best_b: -127.34029232489733, and the loss is : 69478.98537878349\n",
      "When time is : 32 Get best_k:-31.85303598559412 best_b: -128.34029232489735, and the loss is : 65676.16353859332\n",
      "When time is : 33 Get best_k:-30.85303598559412 best_b: -129.34029232489735, and the loss is : 61980.458885150125\n",
      "When time is : 34 Get best_k:-29.85303598559412 best_b: -130.34029232489735, and the loss is : 58391.871418454095\n",
      "When time is : 35 Get best_k:-28.85303598559412 best_b: -131.34029232489735, and the loss is : 54910.401138504974\n",
      "When time is : 36 Get best_k:-27.85303598559412 best_b: -132.34029232489735, and the loss is : 51536.04804530288\n",
      "When time is : 37 Get best_k:-26.85303598559412 best_b: -133.34029232489735, and the loss is : 48268.81213884785\n",
      "When time is : 38 Get best_k:-25.85303598559412 best_b: -134.34029232489735, and the loss is : 45108.693419139905\n",
      "When time is : 39 Get best_k:-24.85303598559412 best_b: -135.34029232489735, and the loss is : 42055.691886178996\n",
      "When time is : 40 Get best_k:-23.85303598559412 best_b: -136.34029232489735, and the loss is : 39109.80753996504\n",
      "When time is : 41 Get best_k:-22.85303598559412 best_b: -137.34029232489735, and the loss is : 36271.04038049816\n",
      "When time is : 42 Get best_k:-21.85303598559412 best_b: -138.34029232489735, and the loss is : 33539.3904077783\n",
      "When time is : 43 Get best_k:-20.85303598559412 best_b: -139.34029232489735, and the loss is : 30914.857621805513\n",
      "When time is : 44 Get best_k:-19.85303598559412 best_b: -140.34029232489735, and the loss is : 28397.442022579726\n",
      "When time is : 45 Get best_k:-18.85303598559412 best_b: -141.34029232489735, and the loss is : 25987.143610101004\n",
      "When time is : 46 Get best_k:-17.85303598559412 best_b: -142.34029232489735, and the loss is : 23683.962384369355\n",
      "When time is : 47 Get best_k:-16.85303598559412 best_b: -143.34029232489735, and the loss is : 21487.898345384638\n",
      "When time is : 48 Get best_k:-15.853035985594119 best_b: -144.34029232489735, and the loss is : 19398.951493147022\n",
      "When time is : 49 Get best_k:-14.853035985594119 best_b: -145.34029232489735, and the loss is : 17417.121827656436\n",
      "When time is : 50 Get best_k:-13.853035985594119 best_b: -146.34029232489735, and the loss is : 15542.40934891289\n",
      "When time is : 51 Get best_k:-12.853035985594119 best_b: -147.34029232489735, and the loss is : 13774.81405691637\n",
      "When time is : 52 Get best_k:-11.853035985594119 best_b: -148.34029232489735, and the loss is : 12114.335951666868\n",
      "When time is : 53 Get best_k:-10.853035985594119 best_b: -149.34029232489735, and the loss is : 10560.97503316444\n",
      "When time is : 54 Get best_k:-9.853035985594119 best_b: -150.34029232489735, and the loss is : 9114.731301409029\n",
      "When time is : 55 Get best_k:-8.853035985594119 best_b: -151.34029232489735, and the loss is : 7775.604756400656\n",
      "When time is : 56 Get best_k:-7.8530359855941185 best_b: -152.34029232489735, and the loss is : 6543.595398139315\n",
      "When time is : 57 Get best_k:-6.8530359855941185 best_b: -153.34029232489735, and the loss is : 5418.703226625005\n",
      "When time is : 58 Get best_k:-5.8530359855941185 best_b: -154.34029232489735, and the loss is : 4400.9282418577395\n",
      "When time is : 59 Get best_k:-4.8530359855941185 best_b: -155.34029232489735, and the loss is : 3490.270443837503\n",
      "When time is : 60 Get best_k:-3.8530359855941185 best_b: -156.34029232489735, and the loss is : 2686.7298325643087\n",
      "When time is : 61 Get best_k:-2.8530359855941185 best_b: -157.34029232489735, and the loss is : 1990.3064080381473\n",
      "When time is : 62 Get best_k:-1.8530359855941185 best_b: -158.34029232489735, and the loss is : 1401.0001702590182\n",
      "When time is : 63 Get best_k:-0.8530359855941185 best_b: -159.34029232489735, and the loss is : 918.8111192269283\n",
      "When time is : 64 Get best_k:0.14696401440588147 best_b: -160.34029232489735, and the loss is : 543.7392549418714\n",
      "When time is : 65 Get best_k:1.1469640144058815 best_b: -161.34029232489735, and the loss is : 275.784577403851\n",
      "When time is : 66 Get best_k:2.1469640144058815 best_b: -162.34029232489735, and the loss is : 114.9470866128661\n",
      "When time is : 67 Get best_k:3.1469640144058815 best_b: -163.34029232489735, and the loss is : 61.22678256891678\n"
     ]
    }
   ],
   "source": [
    "trying_time = 10000\n",
    "min_loss = float('inf')\n",
    "#best_k, best_b = None, None\n",
    "\n",
    "best_k = random.random()*200-100\n",
    "best_b = random.random()*200-100\n",
    "direction = [\n",
    "    (+1, -1),\n",
    "    (+1, +1),  \n",
    "    (-1, -1),\n",
    "    (-1, +1)\n",
    "]\n",
    "next_direction = random.choice(direction)\n",
    "scalar = 1\n",
    "\n",
    "for i in range(trying_time):    \n",
    "    k_direction , b_direction = next_direction\n",
    "    current_k, current_b = best_k + k_direction * scalar, best_b + b_direction * scalar\n",
    "    \n",
    "    price_by_k_and_b = [price(r, current_k, current_k) for r in X_rm]\n",
    "    \n",
    "    current_loss = loss(y, price_by_k_and_b)\n",
    "    \n",
    "    if current_loss < min_loss:\n",
    "        min_loss = current_loss\n",
    "        best_k = current_k\n",
    "        best_b = current_b\n",
    "        next_direction = next_direction\n",
    "        print('When time is : {} Get best_k:{} best_b: {}, and the loss is : {}'.format(i, best_k, best_b, min_loss))\n",
    "    else:\n",
    "        next_direction = random.choice(direction)"
   ]
  },
  {
   "cell_type": "code",
   "execution_count": 23,
   "metadata": {},
   "outputs": [],
   "source": [
    "def partial_k(x,y,y_hat):\n",
    "    n = len(y)\n",
    "    gradient = 0\n",
    "    for x_i, y_i, y_hat_i in zip(list(x),list(y),list(y_hat)):\n",
    "        gradient += (y_i-y_hat_i) * x_i\n",
    "    return -2/n * gradient\n",
    "\n",
    "def partial_b(x,y,y_hat):\n",
    "    n = len(y)\n",
    "    gradient = 0\n",
    "    for  y_i, y_hat_i in zip(list(y),list(y_hat)):\n",
    "        gradient += (y_i-y_hat_i) \n",
    "    return -2/n * gradient"
   ]
  },
  {
   "cell_type": "code",
   "execution_count": 25,
   "metadata": {},
   "outputs": [
    {
     "name": "stdout",
     "output_type": "stream",
     "text": [
      "When time is : 0 Get best_k:24.40318477604346 best_b: 47.56540404802723, and the loss is : 31984.688280036502\n",
      "When time is : 500 Get best_k:-2.4303812571606445 best_b: 38.6889105751283, and the loss is : 109.90619950988861\n",
      "When time is : 1000 Get best_k:-1.757459832538707 best_b: 34.408377981866316, and the loss is : 102.39407604467624\n",
      "When time is : 1500 Get best_k:-1.1238034091746703 best_b: 30.377614695256074, and the loss is : 95.73304145169672\n",
      "When time is : 2000 Get best_k:-0.5271208721368823 best_b: 26.582046662843577, and the loss is : 89.82667129493043\n",
      "When time is : 2500 Get best_k:0.034745206827036176 best_b: 23.007950228918038, and the loss is : 84.5894655813459\n",
      "When time is : 3000 Get best_k:0.5638263699151003 best_b: 19.64240251381623, and the loss is : 79.94561107199338\n",
      "When time is : 3500 Get best_k:1.0620356187289894 best_b: 16.473234688597167, and the loss is : 75.8278838175349\n",
      "When time is : 4000 Get best_k:1.5311743311242003 best_b: 13.48898797614201, and the loss is : 72.17667603142483\n",
      "When time is : 4500 Get best_k:1.9729387744616596 best_b: 10.678872219591938, and the loss is : 68.93913321386282\n",
      "When time is : 5000 Get best_k:2.3889262388106913 best_b: 8.032726868320287, and the loss is : 66.06838903561552\n",
      "When time is : 5500 Get best_k:2.780640812279312 best_b: 5.540984240375012, and the loss is : 63.52288690596426\n",
      "When time is : 6000 Get best_k:3.149498819353684 best_b: 3.194634928559633, and the loss is : 61.265778403870264\n",
      "When time is : 6500 Get best_k:3.4968339419101504 best_b: 0.9851952250713621, and the loss is : 59.26438986410774\n",
      "When time is : 7000 Get best_k:3.823902041415959 best_b: -1.0953235530867749, and the loss is : 57.48974939672369\n",
      "When time is : 7500 Get best_k:4.131885699754315 best_b: -3.054443948829958, and the loss is : 55.91616749300646\n",
      "When time is : 8000 Get best_k:4.421898495092041 best_b: -4.899249564290338, and the loss is : 54.52086514686079\n",
      "When time is : 8500 Get best_k:4.694989028250135 best_b: -6.63641067303534, and the loss is : 53.28364410831118\n",
      "When time is : 9000 Get best_k:4.952144714135386 best_b: -8.27220833781157, and the loss is : 52.18659449576086\n",
      "When time is : 9500 Get best_k:5.194295351941759 best_b: -9.812557121017134, and the loss is : 51.213835534429535\n",
      "When time is : 10000 Get best_k:5.4223164870303195 best_b: -11.263026470016595, and the loss is : 50.35128566792843\n",
      "When time is : 10500 Get best_k:5.637032576643306 best_b: -12.628860854621783, and the loss is : 49.5864587151313\n",
      "When time is : 11000 Get best_k:5.839219970898607 best_b: -13.914998729549403, and the loss is : 48.90828312153015\n",
      "When time is : 11500 Get best_k:6.029609719843051 best_b: -15.126090390418318, and the loss is : 48.30694168857704\n",
      "When time is : 12000 Get best_k:6.208890216713979 best_b: -16.266514787848312, and the loss is : 47.77372946095034\n",
      "When time is : 12500 Get best_k:6.377709686966368 best_b: -17.340395360455386, and the loss is : 47.300927714537465\n",
      "When time is : 13000 Get best_k:6.536678532065092 best_b: -18.351614943990874, and the loss is : 46.88169222099673\n",
      "When time is : 13500 Get best_k:6.686371536516786 best_b: -19.303829810531624, and the loss is : 46.509954171427765\n",
      "When time is : 14000 Get best_k:6.82732994612125 best_b: -20.2004828884824, and the loss is : 46.18033232493214\n",
      "When time is : 14500 Get best_k:6.9600634249568065 best_b: -21.044816211190707, and the loss is : 45.8880551103367\n",
      "When time is : 15000 Get best_k:7.085051898175442 best_b: -21.839882639184147, and the loss is : 45.62889155343087\n",
      "When time is : 15500 Get best_k:7.202747287270749 best_b: -22.588556898414573, and the loss is : 45.399090029829274\n",
      "When time is : 16000 Get best_k:7.313575144092922 best_b: -23.293545974420308, and the loss is : 45.19532395685163\n",
      "When time is : 16500 Get best_k:7.417936189518833 best_b: -23.95739889998808, and the loss is : 45.01464363826192\n",
      "When time is : 17000 Get best_k:7.516207762340678 best_b: -24.582515971704673, and the loss is : 44.854433564776045\n",
      "When time is : 17500 Get best_k:7.608745183611859 best_b: -25.171157428722108, and the loss is : 44.71237455222446\n",
      "When time is : 18000 Get best_k:7.695883041383263 best_b: -25.725451625116705, and the loss is : 44.58641016928632\n",
      "When time is : 18500 Get best_k:7.777936400475 best_b: -26.247402725389875, and the loss is : 44.47471696880582\n",
      "When time is : 19000 Get best_k:7.855201941658035 best_b: -26.73889795093693, and the loss is : 44.37567809176311\n",
      "When time is : 19500 Get best_k:7.927959034364419 best_b: -27.201714403683457, and the loss is : 44.28785986179305\n"
     ]
    }
   ],
   "source": [
    "trying_time = 20000\n",
    "min_loss = float('inf')\n",
    "#best_k, best_b = None, None\n",
    "\n",
    "current_k = random.random()*200-100\n",
    "current_b = random.random()*200-100\n",
    "\n",
    "learning_rate = 5e-3\n",
    "\n",
    "for i in range(trying_time):    \n",
    "\n",
    "    price_by_k_and_b = [price(r, current_k, current_b) for r in X_rm]\n",
    "   \n",
    "    current_loss = loss(y, price_by_k_and_b)\n",
    "    \n",
    "    if current_loss < min_loss:\n",
    "        min_loss = current_loss\n",
    "        best_k = current_k\n",
    "        best_b = current_b\n",
    "        next_direction = next_direction\n",
    "        if i % 500 == 0:\n",
    "            print('When time is : {} Get best_k:{} best_b: {}, and the loss is : {}'.format(i, best_k, best_b, min_loss))\n",
    "\n",
    "    k_gradient = partial_k(X_rm,y,price_by_k_and_b)\n",
    "    b_gradient = partial_b(X_rm,y,price_by_k_and_b)\n",
    "    \n",
    "    current_k = current_k - k_gradient * learning_rate\n",
    "    current_b = current_b - b_gradient * learning_rate"
   ]
  },
  {
   "cell_type": "code",
   "execution_count": null,
   "metadata": {},
   "outputs": [],
   "source": []
  }
 ],
 "metadata": {
  "kernelspec": {
   "display_name": "Python 3",
   "language": "python",
   "name": "python3"
  },
  "language_info": {
   "codemirror_mode": {
    "name": "ipython",
    "version": 3
   },
   "file_extension": ".py",
   "mimetype": "text/x-python",
   "name": "python",
   "nbconvert_exporter": "python",
   "pygments_lexer": "ipython3",
   "version": "3.7.3"
  }
 },
 "nbformat": 4,
 "nbformat_minor": 2
}
